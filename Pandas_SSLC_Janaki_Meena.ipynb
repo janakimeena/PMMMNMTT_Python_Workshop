{
 "cells": [
  {
   "cell_type": "markdown",
   "id": "d472c100",
   "metadata": {},
   "source": [
    "### Pandas\n"
   ]
  },
  {
   "cell_type": "markdown",
   "id": "e10deadf",
   "metadata": {},
   "source": [
    "Pandas is an open source Python package providing high-performance, easy-to-use data structures and data analysis tools for the Python programming language."
   ]
  },
  {
   "cell_type": "markdown",
   "id": "2d7fc7e3",
   "metadata": {},
   "source": [
    "### Basic Unit of Pandas"
   ]
  },
  {
   "cell_type": "markdown",
   "id": "00f2f5fb",
   "metadata": {},
   "source": [
    "<ol>\n",
    "<li>Series - one-dimensional labeled array capable of holding data of any type (integer, string, float, python objects, etc.</li>\n",
    "<li>Dataframes- two-dimensional data structure, i.e., data is aligned in a tabular fashion in rows and columns - dataframe shall be collection of series</li>\n",
    "</ol>"
   ]
  },
  {
   "cell_type": "code",
   "execution_count": 1,
   "id": "d57eed8d",
   "metadata": {},
   "outputs": [],
   "source": [
    "import pandas as pd\n",
    "import numpy as np"
   ]
  },
  {
   "cell_type": "markdown",
   "id": "0401f0f6",
   "metadata": {},
   "source": [
    "### Creating a Dataframe "
   ]
  },
  {
   "cell_type": "markdown",
   "id": "f7a0a999",
   "metadata": {},
   "source": [
    "#### From a list of lists"
   ]
  },
  {
   "cell_type": "code",
   "execution_count": 2,
   "id": "eadce0d3",
   "metadata": {},
   "outputs": [],
   "source": [
    "data = [['Abinav',95],['Radha',87],['Kumar',98],['Amutha',71],['Ramesh',63]]"
   ]
  },
  {
   "cell_type": "code",
   "execution_count": 3,
   "id": "118e379c",
   "metadata": {},
   "outputs": [],
   "source": [
    "marks_df = pd.DataFrame(data,columns=['Name','Marks'])"
   ]
  },
  {
   "cell_type": "code",
   "execution_count": 4,
   "id": "b1d86e49",
   "metadata": {},
   "outputs": [
    {
     "data": {
      "text/html": [
       "<div>\n",
       "<style scoped>\n",
       "    .dataframe tbody tr th:only-of-type {\n",
       "        vertical-align: middle;\n",
       "    }\n",
       "\n",
       "    .dataframe tbody tr th {\n",
       "        vertical-align: top;\n",
       "    }\n",
       "\n",
       "    .dataframe thead th {\n",
       "        text-align: right;\n",
       "    }\n",
       "</style>\n",
       "<table border=\"1\" class=\"dataframe\">\n",
       "  <thead>\n",
       "    <tr style=\"text-align: right;\">\n",
       "      <th></th>\n",
       "      <th>Name</th>\n",
       "      <th>Marks</th>\n",
       "    </tr>\n",
       "  </thead>\n",
       "  <tbody>\n",
       "    <tr>\n",
       "      <th>0</th>\n",
       "      <td>Abinav</td>\n",
       "      <td>95</td>\n",
       "    </tr>\n",
       "    <tr>\n",
       "      <th>1</th>\n",
       "      <td>Radha</td>\n",
       "      <td>87</td>\n",
       "    </tr>\n",
       "    <tr>\n",
       "      <th>2</th>\n",
       "      <td>Kumar</td>\n",
       "      <td>98</td>\n",
       "    </tr>\n",
       "    <tr>\n",
       "      <th>3</th>\n",
       "      <td>Amutha</td>\n",
       "      <td>71</td>\n",
       "    </tr>\n",
       "    <tr>\n",
       "      <th>4</th>\n",
       "      <td>Ramesh</td>\n",
       "      <td>63</td>\n",
       "    </tr>\n",
       "  </tbody>\n",
       "</table>\n",
       "</div>"
      ],
      "text/plain": [
       "     Name  Marks\n",
       "0  Abinav     95\n",
       "1   Radha     87\n",
       "2   Kumar     98\n",
       "3  Amutha     71\n",
       "4  Ramesh     63"
      ]
     },
     "execution_count": 4,
     "metadata": {},
     "output_type": "execute_result"
    }
   ],
   "source": [
    "marks_df"
   ]
  },
  {
   "cell_type": "code",
   "execution_count": 6,
   "id": "8d2595b5",
   "metadata": {},
   "outputs": [
    {
     "data": {
      "text/html": [
       "<div>\n",
       "<style scoped>\n",
       "    .dataframe tbody tr th:only-of-type {\n",
       "        vertical-align: middle;\n",
       "    }\n",
       "\n",
       "    .dataframe tbody tr th {\n",
       "        vertical-align: top;\n",
       "    }\n",
       "\n",
       "    .dataframe thead th {\n",
       "        text-align: right;\n",
       "    }\n",
       "</style>\n",
       "<table border=\"1\" class=\"dataframe\">\n",
       "  <thead>\n",
       "    <tr style=\"text-align: right;\">\n",
       "      <th></th>\n",
       "      <th>0</th>\n",
       "      <th>1</th>\n",
       "      <th>2</th>\n",
       "      <th>3</th>\n",
       "      <th>4</th>\n",
       "    </tr>\n",
       "  </thead>\n",
       "  <tbody>\n",
       "    <tr>\n",
       "      <th>Name</th>\n",
       "      <td>Abinav</td>\n",
       "      <td>Radha</td>\n",
       "      <td>Kumar</td>\n",
       "      <td>Amutha</td>\n",
       "      <td>Ramesh</td>\n",
       "    </tr>\n",
       "    <tr>\n",
       "      <th>Marks</th>\n",
       "      <td>95</td>\n",
       "      <td>87</td>\n",
       "      <td>98</td>\n",
       "      <td>71</td>\n",
       "      <td>63</td>\n",
       "    </tr>\n",
       "  </tbody>\n",
       "</table>\n",
       "</div>"
      ],
      "text/plain": [
       "            0      1      2       3       4\n",
       "Name   Abinav  Radha  Kumar  Amutha  Ramesh\n",
       "Marks      95     87     98      71      63"
      ]
     },
     "execution_count": 6,
     "metadata": {},
     "output_type": "execute_result"
    }
   ],
   "source": [
    "marks_df.T"
   ]
  },
  {
   "cell_type": "code",
   "execution_count": 7,
   "id": "3bc8c3bd",
   "metadata": {},
   "outputs": [
    {
     "data": {
      "text/plain": [
       "pandas.core.frame.DataFrame"
      ]
     },
     "execution_count": 7,
     "metadata": {},
     "output_type": "execute_result"
    }
   ],
   "source": [
    "type(marks_df)"
   ]
  },
  {
   "cell_type": "code",
   "execution_count": 8,
   "id": "fa6ac812",
   "metadata": {},
   "outputs": [
    {
     "data": {
      "text/plain": [
       "pandas.core.series.Series"
      ]
     },
     "execution_count": 8,
     "metadata": {},
     "output_type": "execute_result"
    }
   ],
   "source": [
    "type(marks_df['Name'])"
   ]
  },
  {
   "cell_type": "markdown",
   "id": "47ea589e",
   "metadata": {},
   "source": [
    "#### From dict of narray/lists"
   ]
  },
  {
   "cell_type": "code",
   "execution_count": 9,
   "id": "ecfcf309",
   "metadata": {},
   "outputs": [],
   "source": [
    "data = {'Name':['Abinav','Radha','Kumar','Amutha','Ramesh'],'Marks':[95,87,98,71,63]}"
   ]
  },
  {
   "cell_type": "code",
   "execution_count": 10,
   "id": "56cdf47a",
   "metadata": {},
   "outputs": [],
   "source": [
    "marks_df = pd.DataFrame(data)"
   ]
  },
  {
   "cell_type": "code",
   "execution_count": 11,
   "id": "e74c3c88",
   "metadata": {},
   "outputs": [
    {
     "data": {
      "text/html": [
       "<div>\n",
       "<style scoped>\n",
       "    .dataframe tbody tr th:only-of-type {\n",
       "        vertical-align: middle;\n",
       "    }\n",
       "\n",
       "    .dataframe tbody tr th {\n",
       "        vertical-align: top;\n",
       "    }\n",
       "\n",
       "    .dataframe thead th {\n",
       "        text-align: right;\n",
       "    }\n",
       "</style>\n",
       "<table border=\"1\" class=\"dataframe\">\n",
       "  <thead>\n",
       "    <tr style=\"text-align: right;\">\n",
       "      <th></th>\n",
       "      <th>Name</th>\n",
       "      <th>Marks</th>\n",
       "    </tr>\n",
       "  </thead>\n",
       "  <tbody>\n",
       "    <tr>\n",
       "      <th>0</th>\n",
       "      <td>Abinav</td>\n",
       "      <td>95</td>\n",
       "    </tr>\n",
       "    <tr>\n",
       "      <th>1</th>\n",
       "      <td>Radha</td>\n",
       "      <td>87</td>\n",
       "    </tr>\n",
       "    <tr>\n",
       "      <th>2</th>\n",
       "      <td>Kumar</td>\n",
       "      <td>98</td>\n",
       "    </tr>\n",
       "    <tr>\n",
       "      <th>3</th>\n",
       "      <td>Amutha</td>\n",
       "      <td>71</td>\n",
       "    </tr>\n",
       "    <tr>\n",
       "      <th>4</th>\n",
       "      <td>Ramesh</td>\n",
       "      <td>63</td>\n",
       "    </tr>\n",
       "  </tbody>\n",
       "</table>\n",
       "</div>"
      ],
      "text/plain": [
       "     Name  Marks\n",
       "0  Abinav     95\n",
       "1   Radha     87\n",
       "2   Kumar     98\n",
       "3  Amutha     71\n",
       "4  Ramesh     63"
      ]
     },
     "execution_count": 11,
     "metadata": {},
     "output_type": "execute_result"
    }
   ],
   "source": [
    "marks_df"
   ]
  },
  {
   "cell_type": "markdown",
   "id": "d6b48586",
   "metadata": {},
   "source": [
    "#### From dict of narray/lists"
   ]
  },
  {
   "cell_type": "code",
   "execution_count": 12,
   "id": "92df80aa",
   "metadata": {},
   "outputs": [],
   "source": [
    "data = [{'Name':'Abinav','Marks':95}, {'Name':'Radha','Marks':87},{'Name':'Kumar','Marks':98},{'Name':'Ramesh','Marks':63},{'Name':'Amutha','Marks':71}]"
   ]
  },
  {
   "cell_type": "code",
   "execution_count": 14,
   "id": "66ae10c2",
   "metadata": {},
   "outputs": [],
   "source": [
    "marks_df = pd.DataFrame(data)"
   ]
  },
  {
   "cell_type": "code",
   "execution_count": 15,
   "id": "148ea498",
   "metadata": {},
   "outputs": [
    {
     "data": {
      "text/html": [
       "<div>\n",
       "<style scoped>\n",
       "    .dataframe tbody tr th:only-of-type {\n",
       "        vertical-align: middle;\n",
       "    }\n",
       "\n",
       "    .dataframe tbody tr th {\n",
       "        vertical-align: top;\n",
       "    }\n",
       "\n",
       "    .dataframe thead th {\n",
       "        text-align: right;\n",
       "    }\n",
       "</style>\n",
       "<table border=\"1\" class=\"dataframe\">\n",
       "  <thead>\n",
       "    <tr style=\"text-align: right;\">\n",
       "      <th></th>\n",
       "      <th>Name</th>\n",
       "      <th>Marks</th>\n",
       "    </tr>\n",
       "  </thead>\n",
       "  <tbody>\n",
       "    <tr>\n",
       "      <th>0</th>\n",
       "      <td>Abinav</td>\n",
       "      <td>95</td>\n",
       "    </tr>\n",
       "    <tr>\n",
       "      <th>1</th>\n",
       "      <td>Radha</td>\n",
       "      <td>87</td>\n",
       "    </tr>\n",
       "    <tr>\n",
       "      <th>2</th>\n",
       "      <td>Kumar</td>\n",
       "      <td>98</td>\n",
       "    </tr>\n",
       "    <tr>\n",
       "      <th>3</th>\n",
       "      <td>Ramesh</td>\n",
       "      <td>63</td>\n",
       "    </tr>\n",
       "    <tr>\n",
       "      <th>4</th>\n",
       "      <td>Amutha</td>\n",
       "      <td>71</td>\n",
       "    </tr>\n",
       "  </tbody>\n",
       "</table>\n",
       "</div>"
      ],
      "text/plain": [
       "     Name  Marks\n",
       "0  Abinav     95\n",
       "1   Radha     87\n",
       "2   Kumar     98\n",
       "3  Ramesh     63\n",
       "4  Amutha     71"
      ]
     },
     "execution_count": 15,
     "metadata": {},
     "output_type": "execute_result"
    }
   ],
   "source": [
    "marks_df"
   ]
  },
  {
   "cell_type": "markdown",
   "id": "3abe4af8",
   "metadata": {},
   "source": [
    "#### From Two Lists using Zip"
   ]
  },
  {
   "cell_type": "code",
   "execution_count": 16,
   "id": "8303e857",
   "metadata": {},
   "outputs": [],
   "source": [
    "Names = ['Abinav','Radha','Kumar','Amutha','Ramesh']\n",
    "Marks = [95,87,98,71,63]"
   ]
  },
  {
   "cell_type": "code",
   "execution_count": 19,
   "id": "b27b550c",
   "metadata": {},
   "outputs": [],
   "source": [
    "marks_df = pd.DataFrame(list(zip(Names,Marks)),columns=['Name','Marks'])"
   ]
  },
  {
   "cell_type": "code",
   "execution_count": 20,
   "id": "6baae7d9",
   "metadata": {},
   "outputs": [
    {
     "data": {
      "text/html": [
       "<div>\n",
       "<style scoped>\n",
       "    .dataframe tbody tr th:only-of-type {\n",
       "        vertical-align: middle;\n",
       "    }\n",
       "\n",
       "    .dataframe tbody tr th {\n",
       "        vertical-align: top;\n",
       "    }\n",
       "\n",
       "    .dataframe thead th {\n",
       "        text-align: right;\n",
       "    }\n",
       "</style>\n",
       "<table border=\"1\" class=\"dataframe\">\n",
       "  <thead>\n",
       "    <tr style=\"text-align: right;\">\n",
       "      <th></th>\n",
       "      <th>Name</th>\n",
       "      <th>Marks</th>\n",
       "    </tr>\n",
       "  </thead>\n",
       "  <tbody>\n",
       "    <tr>\n",
       "      <th>0</th>\n",
       "      <td>Abinav</td>\n",
       "      <td>95</td>\n",
       "    </tr>\n",
       "    <tr>\n",
       "      <th>1</th>\n",
       "      <td>Radha</td>\n",
       "      <td>87</td>\n",
       "    </tr>\n",
       "    <tr>\n",
       "      <th>2</th>\n",
       "      <td>Kumar</td>\n",
       "      <td>98</td>\n",
       "    </tr>\n",
       "    <tr>\n",
       "      <th>3</th>\n",
       "      <td>Amutha</td>\n",
       "      <td>71</td>\n",
       "    </tr>\n",
       "    <tr>\n",
       "      <th>4</th>\n",
       "      <td>Ramesh</td>\n",
       "      <td>63</td>\n",
       "    </tr>\n",
       "  </tbody>\n",
       "</table>\n",
       "</div>"
      ],
      "text/plain": [
       "     Name  Marks\n",
       "0  Abinav     95\n",
       "1   Radha     87\n",
       "2   Kumar     98\n",
       "3  Amutha     71\n",
       "4  Ramesh     63"
      ]
     },
     "execution_count": 20,
     "metadata": {},
     "output_type": "execute_result"
    }
   ],
   "source": [
    "marks_df"
   ]
  },
  {
   "cell_type": "markdown",
   "id": "60ce150f",
   "metadata": {},
   "source": [
    "### Creating DataFrame from files"
   ]
  },
  {
   "cell_type": "markdown",
   "id": "0336db87",
   "metadata": {},
   "source": [
    "DataFrame can be created from three types of files:\n",
    "<ol>\n",
    "    <li>Comma Separated Values(CSV files) - read_csv function</li>\n",
    "    <li> Excel Files - read_excel function</li>\n",
    "    <li> Text files - read_table function</li>\n",
    "</ol>"
   ]
  },
  {
   "cell_type": "markdown",
   "id": "bfcba970",
   "metadata": {},
   "source": [
    "Separators maybe specified while using read_csv or read_table functions"
   ]
  },
  {
   "cell_type": "code",
   "execution_count": 23,
   "id": "9d1030b1",
   "metadata": {},
   "outputs": [
    {
     "name": "stderr",
     "output_type": "stream",
     "text": [
      "/home/janaki/anaconda3/lib/python3.8/site-packages/IPython/core/interactiveshell.py:3165: DtypeWarning: Columns (8) have mixed types.Specify dtype option on import or set low_memory=False.\n",
      "  has_raised = await self.run_ast_nodes(code_ast.body, cell_name,\n"
     ]
    }
   ],
   "source": [
    "sslc = pd.read_csv('sslc1.txt',sep=';',header=None,index_col=None)"
   ]
  },
  {
   "cell_type": "markdown",
   "id": "9dca2256",
   "metadata": {},
   "source": [
    "#### Display first five records"
   ]
  },
  {
   "cell_type": "code",
   "execution_count": 24,
   "id": "f4219a66",
   "metadata": {},
   "outputs": [
    {
     "data": {
      "text/html": [
       "<div>\n",
       "<style scoped>\n",
       "    .dataframe tbody tr th:only-of-type {\n",
       "        vertical-align: middle;\n",
       "    }\n",
       "\n",
       "    .dataframe tbody tr th {\n",
       "        vertical-align: top;\n",
       "    }\n",
       "\n",
       "    .dataframe thead th {\n",
       "        text-align: right;\n",
       "    }\n",
       "</style>\n",
       "<table border=\"1\" class=\"dataframe\">\n",
       "  <thead>\n",
       "    <tr style=\"text-align: right;\">\n",
       "      <th></th>\n",
       "      <th>0</th>\n",
       "      <th>1</th>\n",
       "      <th>2</th>\n",
       "      <th>3</th>\n",
       "      <th>4</th>\n",
       "      <th>5</th>\n",
       "      <th>6</th>\n",
       "      <th>7</th>\n",
       "      <th>8</th>\n",
       "      <th>9</th>\n",
       "      <th>10</th>\n",
       "      <th>11</th>\n",
       "    </tr>\n",
       "  </thead>\n",
       "  <tbody>\n",
       "    <tr>\n",
       "      <th>0</th>\n",
       "      <td>A</td>\n",
       "      <td>10001</td>\n",
       "      <td>ABINESH T N</td>\n",
       "      <td>053</td>\n",
       "      <td>036</td>\n",
       "      <td>28</td>\n",
       "      <td>16</td>\n",
       "      <td>44</td>\n",
       "      <td>177</td>\n",
       "      <td>NaN</td>\n",
       "      <td>NaN</td>\n",
       "      <td>NaN</td>\n",
       "    </tr>\n",
       "    <tr>\n",
       "      <th>1</th>\n",
       "      <td>A</td>\n",
       "      <td>10002</td>\n",
       "      <td>ANAND R</td>\n",
       "      <td>058</td>\n",
       "      <td>037</td>\n",
       "      <td>42</td>\n",
       "      <td>35</td>\n",
       "      <td>40</td>\n",
       "      <td>212</td>\n",
       "      <td>P</td>\n",
       "      <td>NaN</td>\n",
       "      <td>NaN</td>\n",
       "    </tr>\n",
       "    <tr>\n",
       "      <th>2</th>\n",
       "      <td>A</td>\n",
       "      <td>10003</td>\n",
       "      <td>ANISH M</td>\n",
       "      <td>072</td>\n",
       "      <td>056</td>\n",
       "      <td>71</td>\n",
       "      <td>55</td>\n",
       "      <td>70</td>\n",
       "      <td>324</td>\n",
       "      <td>P</td>\n",
       "      <td>NaN</td>\n",
       "      <td>NaN</td>\n",
       "    </tr>\n",
       "    <tr>\n",
       "      <th>3</th>\n",
       "      <td>A</td>\n",
       "      <td>10004</td>\n",
       "      <td>ANITHRAJ S</td>\n",
       "      <td>087</td>\n",
       "      <td>064</td>\n",
       "      <td>83</td>\n",
       "      <td>58</td>\n",
       "      <td>65</td>\n",
       "      <td>357</td>\n",
       "      <td>P</td>\n",
       "      <td>NaN</td>\n",
       "      <td>NaN</td>\n",
       "    </tr>\n",
       "    <tr>\n",
       "      <th>4</th>\n",
       "      <td>A</td>\n",
       "      <td>10005</td>\n",
       "      <td>ARIDHAS N</td>\n",
       "      <td>059</td>\n",
       "      <td>045</td>\n",
       "      <td>50</td>\n",
       "      <td>35</td>\n",
       "      <td>48</td>\n",
       "      <td>237</td>\n",
       "      <td>P</td>\n",
       "      <td>NaN</td>\n",
       "      <td>NaN</td>\n",
       "    </tr>\n",
       "  </tbody>\n",
       "</table>\n",
       "</div>"
      ],
      "text/plain": [
       "  0      1            2    3    4   5   6   7    8    9    10  11\n",
       "0  A  10001  ABINESH T N  053  036  28  16  44  177  NaN  NaN NaN\n",
       "1  A  10002      ANAND R  058  037  42  35  40  212    P  NaN NaN\n",
       "2  A  10003      ANISH M  072  056  71  55  70  324    P  NaN NaN\n",
       "3  A  10004   ANITHRAJ S  087  064  83  58  65  357    P  NaN NaN\n",
       "4  A  10005    ARIDHAS N  059  045  50  35  48  237    P  NaN NaN"
      ]
     },
     "execution_count": 24,
     "metadata": {},
     "output_type": "execute_result"
    }
   ],
   "source": [
    "sslc.head()"
   ]
  },
  {
   "cell_type": "code",
   "execution_count": 25,
   "id": "741b3222",
   "metadata": {},
   "outputs": [],
   "source": [
    "sslc.columns = ['region','roll_number','name','fl','sl','math','sci','ss','total','pass','withheld','extra']"
   ]
  },
  {
   "cell_type": "code",
   "execution_count": 26,
   "id": "9c9d5e87",
   "metadata": {},
   "outputs": [
    {
     "data": {
      "text/html": [
       "<div>\n",
       "<style scoped>\n",
       "    .dataframe tbody tr th:only-of-type {\n",
       "        vertical-align: middle;\n",
       "    }\n",
       "\n",
       "    .dataframe tbody tr th {\n",
       "        vertical-align: top;\n",
       "    }\n",
       "\n",
       "    .dataframe thead th {\n",
       "        text-align: right;\n",
       "    }\n",
       "</style>\n",
       "<table border=\"1\" class=\"dataframe\">\n",
       "  <thead>\n",
       "    <tr style=\"text-align: right;\">\n",
       "      <th></th>\n",
       "      <th>region</th>\n",
       "      <th>roll_number</th>\n",
       "      <th>name</th>\n",
       "      <th>fl</th>\n",
       "      <th>sl</th>\n",
       "      <th>math</th>\n",
       "      <th>sci</th>\n",
       "      <th>ss</th>\n",
       "      <th>total</th>\n",
       "      <th>pass</th>\n",
       "      <th>withheld</th>\n",
       "      <th>extra</th>\n",
       "    </tr>\n",
       "  </thead>\n",
       "  <tbody>\n",
       "    <tr>\n",
       "      <th>0</th>\n",
       "      <td>A</td>\n",
       "      <td>10001</td>\n",
       "      <td>ABINESH T N</td>\n",
       "      <td>053</td>\n",
       "      <td>036</td>\n",
       "      <td>28</td>\n",
       "      <td>16</td>\n",
       "      <td>44</td>\n",
       "      <td>177</td>\n",
       "      <td>NaN</td>\n",
       "      <td>NaN</td>\n",
       "      <td>NaN</td>\n",
       "    </tr>\n",
       "    <tr>\n",
       "      <th>1</th>\n",
       "      <td>A</td>\n",
       "      <td>10002</td>\n",
       "      <td>ANAND R</td>\n",
       "      <td>058</td>\n",
       "      <td>037</td>\n",
       "      <td>42</td>\n",
       "      <td>35</td>\n",
       "      <td>40</td>\n",
       "      <td>212</td>\n",
       "      <td>P</td>\n",
       "      <td>NaN</td>\n",
       "      <td>NaN</td>\n",
       "    </tr>\n",
       "    <tr>\n",
       "      <th>2</th>\n",
       "      <td>A</td>\n",
       "      <td>10003</td>\n",
       "      <td>ANISH M</td>\n",
       "      <td>072</td>\n",
       "      <td>056</td>\n",
       "      <td>71</td>\n",
       "      <td>55</td>\n",
       "      <td>70</td>\n",
       "      <td>324</td>\n",
       "      <td>P</td>\n",
       "      <td>NaN</td>\n",
       "      <td>NaN</td>\n",
       "    </tr>\n",
       "    <tr>\n",
       "      <th>3</th>\n",
       "      <td>A</td>\n",
       "      <td>10004</td>\n",
       "      <td>ANITHRAJ S</td>\n",
       "      <td>087</td>\n",
       "      <td>064</td>\n",
       "      <td>83</td>\n",
       "      <td>58</td>\n",
       "      <td>65</td>\n",
       "      <td>357</td>\n",
       "      <td>P</td>\n",
       "      <td>NaN</td>\n",
       "      <td>NaN</td>\n",
       "    </tr>\n",
       "    <tr>\n",
       "      <th>4</th>\n",
       "      <td>A</td>\n",
       "      <td>10005</td>\n",
       "      <td>ARIDHAS N</td>\n",
       "      <td>059</td>\n",
       "      <td>045</td>\n",
       "      <td>50</td>\n",
       "      <td>35</td>\n",
       "      <td>48</td>\n",
       "      <td>237</td>\n",
       "      <td>P</td>\n",
       "      <td>NaN</td>\n",
       "      <td>NaN</td>\n",
       "    </tr>\n",
       "    <tr>\n",
       "      <th>5</th>\n",
       "      <td>A</td>\n",
       "      <td>10006</td>\n",
       "      <td>ARUN S</td>\n",
       "      <td>044</td>\n",
       "      <td>037</td>\n",
       "      <td>25</td>\n",
       "      <td>18</td>\n",
       "      <td>37</td>\n",
       "      <td>161</td>\n",
       "      <td>NaN</td>\n",
       "      <td>NaN</td>\n",
       "      <td>NaN</td>\n",
       "    </tr>\n",
       "    <tr>\n",
       "      <th>6</th>\n",
       "      <td>A</td>\n",
       "      <td>10007</td>\n",
       "      <td>GOPALAKRISHNAN M</td>\n",
       "      <td>062</td>\n",
       "      <td>046</td>\n",
       "      <td>49</td>\n",
       "      <td>36</td>\n",
       "      <td>44</td>\n",
       "      <td>237</td>\n",
       "      <td>P</td>\n",
       "      <td>NaN</td>\n",
       "      <td>NaN</td>\n",
       "    </tr>\n",
       "  </tbody>\n",
       "</table>\n",
       "</div>"
      ],
      "text/plain": [
       "  region  roll_number              name   fl   sl math sci  ss total pass  \\\n",
       "0      A        10001       ABINESH T N  053  036   28  16  44   177  NaN   \n",
       "1      A        10002           ANAND R  058  037   42  35  40   212    P   \n",
       "2      A        10003           ANISH M  072  056   71  55  70   324    P   \n",
       "3      A        10004        ANITHRAJ S  087  064   83  58  65   357    P   \n",
       "4      A        10005         ARIDHAS N  059  045   50  35  48   237    P   \n",
       "5      A        10006            ARUN S  044  037   25  18  37   161  NaN   \n",
       "6      A        10007  GOPALAKRISHNAN M  062  046   49  36  44   237    P   \n",
       "\n",
       "  withheld  extra  \n",
       "0      NaN    NaN  \n",
       "1      NaN    NaN  \n",
       "2      NaN    NaN  \n",
       "3      NaN    NaN  \n",
       "4      NaN    NaN  \n",
       "5      NaN    NaN  \n",
       "6      NaN    NaN  "
      ]
     },
     "execution_count": 26,
     "metadata": {},
     "output_type": "execute_result"
    }
   ],
   "source": [
    "sslc.head(7)"
   ]
  },
  {
   "cell_type": "markdown",
   "id": "2bfba20d",
   "metadata": {},
   "source": [
    "#### Display Last Eight Records"
   ]
  },
  {
   "cell_type": "code",
   "execution_count": 27,
   "id": "d54c9a81",
   "metadata": {},
   "outputs": [
    {
     "data": {
      "text/html": [
       "<div>\n",
       "<style scoped>\n",
       "    .dataframe tbody tr th:only-of-type {\n",
       "        vertical-align: middle;\n",
       "    }\n",
       "\n",
       "    .dataframe tbody tr th {\n",
       "        vertical-align: top;\n",
       "    }\n",
       "\n",
       "    .dataframe thead th {\n",
       "        text-align: right;\n",
       "    }\n",
       "</style>\n",
       "<table border=\"1\" class=\"dataframe\">\n",
       "  <thead>\n",
       "    <tr style=\"text-align: right;\">\n",
       "      <th></th>\n",
       "      <th>region</th>\n",
       "      <th>roll_number</th>\n",
       "      <th>name</th>\n",
       "      <th>fl</th>\n",
       "      <th>sl</th>\n",
       "      <th>math</th>\n",
       "      <th>sci</th>\n",
       "      <th>ss</th>\n",
       "      <th>total</th>\n",
       "      <th>pass</th>\n",
       "      <th>withheld</th>\n",
       "      <th>extra</th>\n",
       "    </tr>\n",
       "  </thead>\n",
       "  <tbody>\n",
       "    <tr>\n",
       "      <th>185659</th>\n",
       "      <td>C</td>\n",
       "      <td>199991</td>\n",
       "      <td>MURALI M</td>\n",
       "      <td>063</td>\n",
       "      <td>042</td>\n",
       "      <td>37</td>\n",
       "      <td>35</td>\n",
       "      <td>60</td>\n",
       "      <td>237</td>\n",
       "      <td>P</td>\n",
       "      <td>NaN</td>\n",
       "      <td>NaN</td>\n",
       "    </tr>\n",
       "    <tr>\n",
       "      <th>185660</th>\n",
       "      <td>C</td>\n",
       "      <td>199992</td>\n",
       "      <td>SANGILIMANI C</td>\n",
       "      <td>058</td>\n",
       "      <td>044</td>\n",
       "      <td>36</td>\n",
       "      <td>20</td>\n",
       "      <td>45</td>\n",
       "      <td>203</td>\n",
       "      <td>NaN</td>\n",
       "      <td>NaN</td>\n",
       "      <td>NaN</td>\n",
       "    </tr>\n",
       "    <tr>\n",
       "      <th>185661</th>\n",
       "      <td>C</td>\n",
       "      <td>199994</td>\n",
       "      <td>DHANABALAN V</td>\n",
       "      <td>044</td>\n",
       "      <td>038</td>\n",
       "      <td>25</td>\n",
       "      <td>17</td>\n",
       "      <td>41</td>\n",
       "      <td>165</td>\n",
       "      <td>NaN</td>\n",
       "      <td>NaN</td>\n",
       "      <td>NaN</td>\n",
       "    </tr>\n",
       "    <tr>\n",
       "      <th>185662</th>\n",
       "      <td>C</td>\n",
       "      <td>199995</td>\n",
       "      <td>SARAVANAN A</td>\n",
       "      <td>053</td>\n",
       "      <td>034</td>\n",
       "      <td>26</td>\n",
       "      <td>24</td>\n",
       "      <td>44</td>\n",
       "      <td>181</td>\n",
       "      <td>NaN</td>\n",
       "      <td>NaN</td>\n",
       "      <td>NaN</td>\n",
       "    </tr>\n",
       "    <tr>\n",
       "      <th>185663</th>\n",
       "      <td>C</td>\n",
       "      <td>199996</td>\n",
       "      <td>JONATHAN J</td>\n",
       "      <td>051</td>\n",
       "      <td>038</td>\n",
       "      <td>24</td>\n",
       "      <td>15</td>\n",
       "      <td>41</td>\n",
       "      <td>169</td>\n",
       "      <td>NaN</td>\n",
       "      <td>NaN</td>\n",
       "      <td>NaN</td>\n",
       "    </tr>\n",
       "    <tr>\n",
       "      <th>185664</th>\n",
       "      <td>C</td>\n",
       "      <td>199997</td>\n",
       "      <td>SATHISH KUMAR M</td>\n",
       "      <td>049</td>\n",
       "      <td>039</td>\n",
       "      <td>12</td>\n",
       "      <td>20</td>\n",
       "      <td>24</td>\n",
       "      <td>144</td>\n",
       "      <td>NaN</td>\n",
       "      <td>NaN</td>\n",
       "      <td>NaN</td>\n",
       "    </tr>\n",
       "    <tr>\n",
       "      <th>185665</th>\n",
       "      <td>C</td>\n",
       "      <td>199998</td>\n",
       "      <td>NAGARAJ R</td>\n",
       "      <td>033</td>\n",
       "      <td>036</td>\n",
       "      <td>22</td>\n",
       "      <td>15</td>\n",
       "      <td>35</td>\n",
       "      <td>141</td>\n",
       "      <td>NaN</td>\n",
       "      <td>NaN</td>\n",
       "      <td>NaN</td>\n",
       "    </tr>\n",
       "    <tr>\n",
       "      <th>185666</th>\n",
       "      <td>C</td>\n",
       "      <td>199999</td>\n",
       "      <td>NAGARAJ P</td>\n",
       "      <td>017</td>\n",
       "      <td>014</td>\n",
       "      <td>15</td>\n",
       "      <td>14</td>\n",
       "      <td>20</td>\n",
       "      <td>80</td>\n",
       "      <td>NaN</td>\n",
       "      <td>NaN</td>\n",
       "      <td>NaN</td>\n",
       "    </tr>\n",
       "  </tbody>\n",
       "</table>\n",
       "</div>"
      ],
      "text/plain": [
       "       region  roll_number             name   fl   sl math sci  ss total pass  \\\n",
       "185659      C       199991         MURALI M  063  042   37  35  60   237    P   \n",
       "185660      C       199992    SANGILIMANI C  058  044   36  20  45   203  NaN   \n",
       "185661      C       199994     DHANABALAN V  044  038   25  17  41   165  NaN   \n",
       "185662      C       199995      SARAVANAN A  053  034   26  24  44   181  NaN   \n",
       "185663      C       199996       JONATHAN J  051  038   24  15  41   169  NaN   \n",
       "185664      C       199997  SATHISH KUMAR M  049  039   12  20  24   144  NaN   \n",
       "185665      C       199998        NAGARAJ R  033  036   22  15  35   141  NaN   \n",
       "185666      C       199999        NAGARAJ P  017  014   15  14  20    80  NaN   \n",
       "\n",
       "       withheld  extra  \n",
       "185659      NaN    NaN  \n",
       "185660      NaN    NaN  \n",
       "185661      NaN    NaN  \n",
       "185662      NaN    NaN  \n",
       "185663      NaN    NaN  \n",
       "185664      NaN    NaN  \n",
       "185665      NaN    NaN  \n",
       "185666      NaN    NaN  "
      ]
     },
     "execution_count": 27,
     "metadata": {},
     "output_type": "execute_result"
    }
   ],
   "source": [
    "sslc.tail(8)"
   ]
  },
  {
   "cell_type": "markdown",
   "id": "636e0482",
   "metadata": {},
   "source": [
    "### General attributes of dataframe"
   ]
  },
  {
   "cell_type": "code",
   "execution_count": 32,
   "id": "ffe0774e",
   "metadata": {},
   "outputs": [
    {
     "data": {
      "text/plain": [
       "2228004"
      ]
     },
     "execution_count": 32,
     "metadata": {},
     "output_type": "execute_result"
    }
   ],
   "source": [
    "# returns number of data(cells) in the dataframe\n",
    "sslc.size"
   ]
  },
  {
   "cell_type": "code",
   "execution_count": 33,
   "id": "dc63f2ee",
   "metadata": {},
   "outputs": [
    {
     "data": {
      "text/plain": [
       "region         185667\n",
       "roll_number    185667\n",
       "name           185667\n",
       "fl             185667\n",
       "sl             185667\n",
       "math           185667\n",
       "sci            185667\n",
       "ss             185667\n",
       "total          185667\n",
       "pass           159072\n",
       "withheld          113\n",
       "extra               0\n",
       "dtype: int64"
      ]
     },
     "execution_count": 33,
     "metadata": {},
     "output_type": "execute_result"
    }
   ],
   "source": [
    "# returns the number of null values in each column\n",
    "sslc.count()"
   ]
  },
  {
   "cell_type": "code",
   "execution_count": 34,
   "id": "00c49166",
   "metadata": {},
   "outputs": [
    {
     "data": {
      "text/plain": [
       "(185667, 12)"
      ]
     },
     "execution_count": 34,
     "metadata": {},
     "output_type": "execute_result"
    }
   ],
   "source": [
    "# Return a tuple of the number of records(rows) and number of attributes (columns)\n",
    "sslc.shape"
   ]
  },
  {
   "cell_type": "code",
   "execution_count": 35,
   "id": "507f88a8",
   "metadata": {},
   "outputs": [
    {
     "data": {
      "text/plain": [
       "2"
      ]
     },
     "execution_count": 35,
     "metadata": {},
     "output_type": "execute_result"
    }
   ],
   "source": [
    "# Return number of dimensions of the dataframe\n",
    "sslc.ndim"
   ]
  },
  {
   "cell_type": "markdown",
   "id": "cdc03a05",
   "metadata": {},
   "source": [
    "#### Summary about dataframe"
   ]
  },
  {
   "cell_type": "code",
   "execution_count": 256,
   "id": "66f2c97e",
   "metadata": {
    "scrolled": true
   },
   "outputs": [
    {
     "name": "stdout",
     "output_type": "stream",
     "text": [
      "<class 'pandas.core.frame.DataFrame'>\n",
      "Int64Index: 185667 entries, 10001 to 199999\n",
      "Data columns (total 11 columns):\n",
      " #   Column    Non-Null Count   Dtype  \n",
      "---  ------    --------------   -----  \n",
      " 0   region    185667 non-null  object \n",
      " 1   name      185667 non-null  object \n",
      " 2   fl        185667 non-null  object \n",
      " 3   sl        185667 non-null  object \n",
      " 4   math      185667 non-null  object \n",
      " 5   sci       185667 non-null  object \n",
      " 6   ss        185667 non-null  object \n",
      " 7   total     185667 non-null  object \n",
      " 8   pass      159072 non-null  object \n",
      " 9   withheld  113 non-null     object \n",
      " 10  extra     0 non-null       float64\n",
      "dtypes: float64(1), object(10)\n",
      "memory usage: 17.0+ MB\n"
     ]
    }
   ],
   "source": [
    "sslc.info()"
   ]
  },
  {
   "cell_type": "markdown",
   "id": "05170165",
   "metadata": {},
   "source": [
    "#### Statistical Description about Dataframe\n",
    "<ul>\n",
    "    <li>By default it shows only for numerical attributes</li>\n",
    "    <li>Keyword arguments shall be given to specifically display attributes</li>\n",
    "    <li>For categorical attributes count,unique,top,freq are displayed</li>\n",
    "</ul>\n",
    "    \n"
   ]
  },
  {
   "cell_type": "code",
   "execution_count": 58,
   "id": "f3795367",
   "metadata": {},
   "outputs": [
    {
     "data": {
      "text/html": [
       "<div>\n",
       "<style scoped>\n",
       "    .dataframe tbody tr th:only-of-type {\n",
       "        vertical-align: middle;\n",
       "    }\n",
       "\n",
       "    .dataframe tbody tr th {\n",
       "        vertical-align: top;\n",
       "    }\n",
       "\n",
       "    .dataframe thead th {\n",
       "        text-align: right;\n",
       "    }\n",
       "</style>\n",
       "<table border=\"1\" class=\"dataframe\">\n",
       "  <thead>\n",
       "    <tr style=\"text-align: right;\">\n",
       "      <th></th>\n",
       "      <th>roll_number</th>\n",
       "      <th>extra</th>\n",
       "    </tr>\n",
       "  </thead>\n",
       "  <tbody>\n",
       "    <tr>\n",
       "      <th>count</th>\n",
       "      <td>185667.000000</td>\n",
       "      <td>0.0</td>\n",
       "    </tr>\n",
       "    <tr>\n",
       "      <th>mean</th>\n",
       "      <td>105014.949043</td>\n",
       "      <td>NaN</td>\n",
       "    </tr>\n",
       "    <tr>\n",
       "      <th>std</th>\n",
       "      <td>54921.152696</td>\n",
       "      <td>NaN</td>\n",
       "    </tr>\n",
       "    <tr>\n",
       "      <th>min</th>\n",
       "      <td>10001.000000</td>\n",
       "      <td>NaN</td>\n",
       "    </tr>\n",
       "    <tr>\n",
       "      <th>25%</th>\n",
       "      <td>57314.500000</td>\n",
       "      <td>NaN</td>\n",
       "    </tr>\n",
       "    <tr>\n",
       "      <th>50%</th>\n",
       "      <td>105291.000000</td>\n",
       "      <td>NaN</td>\n",
       "    </tr>\n",
       "    <tr>\n",
       "      <th>75%</th>\n",
       "      <td>152581.500000</td>\n",
       "      <td>NaN</td>\n",
       "    </tr>\n",
       "    <tr>\n",
       "      <th>max</th>\n",
       "      <td>199999.000000</td>\n",
       "      <td>NaN</td>\n",
       "    </tr>\n",
       "  </tbody>\n",
       "</table>\n",
       "</div>"
      ],
      "text/plain": [
       "         roll_number  extra\n",
       "count  185667.000000    0.0\n",
       "mean   105014.949043    NaN\n",
       "std     54921.152696    NaN\n",
       "min     10001.000000    NaN\n",
       "25%     57314.500000    NaN\n",
       "50%    105291.000000    NaN\n",
       "75%    152581.500000    NaN\n",
       "max    199999.000000    NaN"
      ]
     },
     "execution_count": 58,
     "metadata": {},
     "output_type": "execute_result"
    }
   ],
   "source": [
    "sslc.describe()"
   ]
  },
  {
   "cell_type": "code",
   "execution_count": 258,
   "id": "3b0a65bf",
   "metadata": {},
   "outputs": [
    {
     "data": {
      "text/html": [
       "<div>\n",
       "<style scoped>\n",
       "    .dataframe tbody tr th:only-of-type {\n",
       "        vertical-align: middle;\n",
       "    }\n",
       "\n",
       "    .dataframe tbody tr th {\n",
       "        vertical-align: top;\n",
       "    }\n",
       "\n",
       "    .dataframe thead th {\n",
       "        text-align: right;\n",
       "    }\n",
       "</style>\n",
       "<table border=\"1\" class=\"dataframe\">\n",
       "  <thead>\n",
       "    <tr style=\"text-align: right;\">\n",
       "      <th></th>\n",
       "      <th>region</th>\n",
       "      <th>name</th>\n",
       "      <th>fl</th>\n",
       "      <th>sl</th>\n",
       "      <th>math</th>\n",
       "      <th>sci</th>\n",
       "      <th>ss</th>\n",
       "      <th>total</th>\n",
       "      <th>pass</th>\n",
       "      <th>withheld</th>\n",
       "    </tr>\n",
       "  </thead>\n",
       "  <tbody>\n",
       "    <tr>\n",
       "      <th>count</th>\n",
       "      <td>185667</td>\n",
       "      <td>185667</td>\n",
       "      <td>185667</td>\n",
       "      <td>185667</td>\n",
       "      <td>185667</td>\n",
       "      <td>185667</td>\n",
       "      <td>185667</td>\n",
       "      <td>185667</td>\n",
       "      <td>159072</td>\n",
       "      <td>113</td>\n",
       "    </tr>\n",
       "    <tr>\n",
       "      <th>unique</th>\n",
       "      <td>6</td>\n",
       "      <td>96438</td>\n",
       "      <td>96</td>\n",
       "      <td>95</td>\n",
       "      <td>99</td>\n",
       "      <td>98</td>\n",
       "      <td>97</td>\n",
       "      <td>882</td>\n",
       "      <td>1</td>\n",
       "      <td>1</td>\n",
       "    </tr>\n",
       "    <tr>\n",
       "      <th>top</th>\n",
       "      <td>B</td>\n",
       "      <td>MANIKANDAN M</td>\n",
       "      <td>085</td>\n",
       "      <td>035</td>\n",
       "      <td>35</td>\n",
       "      <td>35</td>\n",
       "      <td>35</td>\n",
       "      <td>278</td>\n",
       "      <td>P</td>\n",
       "      <td>W</td>\n",
       "    </tr>\n",
       "    <tr>\n",
       "      <th>freq</th>\n",
       "      <td>41341</td>\n",
       "      <td>242</td>\n",
       "      <td>5989</td>\n",
       "      <td>6703</td>\n",
       "      <td>12842</td>\n",
       "      <td>25723</td>\n",
       "      <td>5334</td>\n",
       "      <td>592</td>\n",
       "      <td>159072</td>\n",
       "      <td>113</td>\n",
       "    </tr>\n",
       "  </tbody>\n",
       "</table>\n",
       "</div>"
      ],
      "text/plain": [
       "        region          name      fl      sl    math     sci      ss   total  \\\n",
       "count   185667        185667  185667  185667  185667  185667  185667  185667   \n",
       "unique       6         96438      96      95      99      98      97     882   \n",
       "top          B  MANIKANDAN M     085     035      35      35      35     278   \n",
       "freq     41341           242    5989    6703   12842   25723    5334     592   \n",
       "\n",
       "          pass withheld  \n",
       "count   159072      113  \n",
       "unique       1        1  \n",
       "top          P        W  \n",
       "freq    159072      113  "
      ]
     },
     "execution_count": 258,
     "metadata": {},
     "output_type": "execute_result"
    }
   ],
   "source": [
    "sslc.describe(include=[object])"
   ]
  },
  {
   "cell_type": "code",
   "execution_count": 259,
   "id": "0f72d880",
   "metadata": {},
   "outputs": [
    {
     "data": {
      "text/html": [
       "<div>\n",
       "<style scoped>\n",
       "    .dataframe tbody tr th:only-of-type {\n",
       "        vertical-align: middle;\n",
       "    }\n",
       "\n",
       "    .dataframe tbody tr th {\n",
       "        vertical-align: top;\n",
       "    }\n",
       "\n",
       "    .dataframe thead th {\n",
       "        text-align: right;\n",
       "    }\n",
       "</style>\n",
       "<table border=\"1\" class=\"dataframe\">\n",
       "  <thead>\n",
       "    <tr style=\"text-align: right;\">\n",
       "      <th></th>\n",
       "      <th>extra</th>\n",
       "    </tr>\n",
       "  </thead>\n",
       "  <tbody>\n",
       "    <tr>\n",
       "      <th>count</th>\n",
       "      <td>0.0</td>\n",
       "    </tr>\n",
       "    <tr>\n",
       "      <th>mean</th>\n",
       "      <td>NaN</td>\n",
       "    </tr>\n",
       "    <tr>\n",
       "      <th>std</th>\n",
       "      <td>NaN</td>\n",
       "    </tr>\n",
       "    <tr>\n",
       "      <th>min</th>\n",
       "      <td>NaN</td>\n",
       "    </tr>\n",
       "    <tr>\n",
       "      <th>25%</th>\n",
       "      <td>NaN</td>\n",
       "    </tr>\n",
       "    <tr>\n",
       "      <th>50%</th>\n",
       "      <td>NaN</td>\n",
       "    </tr>\n",
       "    <tr>\n",
       "      <th>75%</th>\n",
       "      <td>NaN</td>\n",
       "    </tr>\n",
       "    <tr>\n",
       "      <th>max</th>\n",
       "      <td>NaN</td>\n",
       "    </tr>\n",
       "  </tbody>\n",
       "</table>\n",
       "</div>"
      ],
      "text/plain": [
       "       extra\n",
       "count    0.0\n",
       "mean     NaN\n",
       "std      NaN\n",
       "min      NaN\n",
       "25%      NaN\n",
       "50%      NaN\n",
       "75%      NaN\n",
       "max      NaN"
      ]
     },
     "execution_count": 259,
     "metadata": {},
     "output_type": "execute_result"
    }
   ],
   "source": [
    "sslc.describe(exclude=[object])"
   ]
  },
  {
   "cell_type": "code",
   "execution_count": 260,
   "id": "bd688651",
   "metadata": {
    "scrolled": true
   },
   "outputs": [
    {
     "data": {
      "text/html": [
       "<div>\n",
       "<style scoped>\n",
       "    .dataframe tbody tr th:only-of-type {\n",
       "        vertical-align: middle;\n",
       "    }\n",
       "\n",
       "    .dataframe tbody tr th {\n",
       "        vertical-align: top;\n",
       "    }\n",
       "\n",
       "    .dataframe thead th {\n",
       "        text-align: right;\n",
       "    }\n",
       "</style>\n",
       "<table border=\"1\" class=\"dataframe\">\n",
       "  <thead>\n",
       "    <tr style=\"text-align: right;\">\n",
       "      <th></th>\n",
       "      <th>region</th>\n",
       "      <th>name</th>\n",
       "      <th>fl</th>\n",
       "      <th>sl</th>\n",
       "      <th>math</th>\n",
       "      <th>sci</th>\n",
       "      <th>ss</th>\n",
       "      <th>total</th>\n",
       "      <th>pass</th>\n",
       "      <th>withheld</th>\n",
       "      <th>extra</th>\n",
       "    </tr>\n",
       "  </thead>\n",
       "  <tbody>\n",
       "    <tr>\n",
       "      <th>count</th>\n",
       "      <td>185667</td>\n",
       "      <td>185667</td>\n",
       "      <td>185667</td>\n",
       "      <td>185667</td>\n",
       "      <td>185667</td>\n",
       "      <td>185667</td>\n",
       "      <td>185667</td>\n",
       "      <td>185667.0</td>\n",
       "      <td>159072</td>\n",
       "      <td>113</td>\n",
       "      <td>0.0</td>\n",
       "    </tr>\n",
       "    <tr>\n",
       "      <th>unique</th>\n",
       "      <td>6</td>\n",
       "      <td>96438</td>\n",
       "      <td>96</td>\n",
       "      <td>95</td>\n",
       "      <td>99</td>\n",
       "      <td>98</td>\n",
       "      <td>97</td>\n",
       "      <td>882.0</td>\n",
       "      <td>1</td>\n",
       "      <td>1</td>\n",
       "      <td>NaN</td>\n",
       "    </tr>\n",
       "    <tr>\n",
       "      <th>top</th>\n",
       "      <td>B</td>\n",
       "      <td>MANIKANDAN M</td>\n",
       "      <td>085</td>\n",
       "      <td>035</td>\n",
       "      <td>35</td>\n",
       "      <td>35</td>\n",
       "      <td>35</td>\n",
       "      <td>278.0</td>\n",
       "      <td>P</td>\n",
       "      <td>W</td>\n",
       "      <td>NaN</td>\n",
       "    </tr>\n",
       "    <tr>\n",
       "      <th>freq</th>\n",
       "      <td>41341</td>\n",
       "      <td>242</td>\n",
       "      <td>5989</td>\n",
       "      <td>6703</td>\n",
       "      <td>12842</td>\n",
       "      <td>25723</td>\n",
       "      <td>5334</td>\n",
       "      <td>592.0</td>\n",
       "      <td>159072</td>\n",
       "      <td>113</td>\n",
       "      <td>NaN</td>\n",
       "    </tr>\n",
       "    <tr>\n",
       "      <th>mean</th>\n",
       "      <td>NaN</td>\n",
       "      <td>NaN</td>\n",
       "      <td>NaN</td>\n",
       "      <td>NaN</td>\n",
       "      <td>NaN</td>\n",
       "      <td>NaN</td>\n",
       "      <td>NaN</td>\n",
       "      <td>NaN</td>\n",
       "      <td>NaN</td>\n",
       "      <td>NaN</td>\n",
       "      <td>NaN</td>\n",
       "    </tr>\n",
       "    <tr>\n",
       "      <th>std</th>\n",
       "      <td>NaN</td>\n",
       "      <td>NaN</td>\n",
       "      <td>NaN</td>\n",
       "      <td>NaN</td>\n",
       "      <td>NaN</td>\n",
       "      <td>NaN</td>\n",
       "      <td>NaN</td>\n",
       "      <td>NaN</td>\n",
       "      <td>NaN</td>\n",
       "      <td>NaN</td>\n",
       "      <td>NaN</td>\n",
       "    </tr>\n",
       "    <tr>\n",
       "      <th>min</th>\n",
       "      <td>NaN</td>\n",
       "      <td>NaN</td>\n",
       "      <td>NaN</td>\n",
       "      <td>NaN</td>\n",
       "      <td>NaN</td>\n",
       "      <td>NaN</td>\n",
       "      <td>NaN</td>\n",
       "      <td>NaN</td>\n",
       "      <td>NaN</td>\n",
       "      <td>NaN</td>\n",
       "      <td>NaN</td>\n",
       "    </tr>\n",
       "    <tr>\n",
       "      <th>25%</th>\n",
       "      <td>NaN</td>\n",
       "      <td>NaN</td>\n",
       "      <td>NaN</td>\n",
       "      <td>NaN</td>\n",
       "      <td>NaN</td>\n",
       "      <td>NaN</td>\n",
       "      <td>NaN</td>\n",
       "      <td>NaN</td>\n",
       "      <td>NaN</td>\n",
       "      <td>NaN</td>\n",
       "      <td>NaN</td>\n",
       "    </tr>\n",
       "    <tr>\n",
       "      <th>50%</th>\n",
       "      <td>NaN</td>\n",
       "      <td>NaN</td>\n",
       "      <td>NaN</td>\n",
       "      <td>NaN</td>\n",
       "      <td>NaN</td>\n",
       "      <td>NaN</td>\n",
       "      <td>NaN</td>\n",
       "      <td>NaN</td>\n",
       "      <td>NaN</td>\n",
       "      <td>NaN</td>\n",
       "      <td>NaN</td>\n",
       "    </tr>\n",
       "    <tr>\n",
       "      <th>75%</th>\n",
       "      <td>NaN</td>\n",
       "      <td>NaN</td>\n",
       "      <td>NaN</td>\n",
       "      <td>NaN</td>\n",
       "      <td>NaN</td>\n",
       "      <td>NaN</td>\n",
       "      <td>NaN</td>\n",
       "      <td>NaN</td>\n",
       "      <td>NaN</td>\n",
       "      <td>NaN</td>\n",
       "      <td>NaN</td>\n",
       "    </tr>\n",
       "    <tr>\n",
       "      <th>max</th>\n",
       "      <td>NaN</td>\n",
       "      <td>NaN</td>\n",
       "      <td>NaN</td>\n",
       "      <td>NaN</td>\n",
       "      <td>NaN</td>\n",
       "      <td>NaN</td>\n",
       "      <td>NaN</td>\n",
       "      <td>NaN</td>\n",
       "      <td>NaN</td>\n",
       "      <td>NaN</td>\n",
       "      <td>NaN</td>\n",
       "    </tr>\n",
       "  </tbody>\n",
       "</table>\n",
       "</div>"
      ],
      "text/plain": [
       "        region          name      fl      sl    math     sci      ss  \\\n",
       "count   185667        185667  185667  185667  185667  185667  185667   \n",
       "unique       6         96438      96      95      99      98      97   \n",
       "top          B  MANIKANDAN M     085     035      35      35      35   \n",
       "freq     41341           242    5989    6703   12842   25723    5334   \n",
       "mean       NaN           NaN     NaN     NaN     NaN     NaN     NaN   \n",
       "std        NaN           NaN     NaN     NaN     NaN     NaN     NaN   \n",
       "min        NaN           NaN     NaN     NaN     NaN     NaN     NaN   \n",
       "25%        NaN           NaN     NaN     NaN     NaN     NaN     NaN   \n",
       "50%        NaN           NaN     NaN     NaN     NaN     NaN     NaN   \n",
       "75%        NaN           NaN     NaN     NaN     NaN     NaN     NaN   \n",
       "max        NaN           NaN     NaN     NaN     NaN     NaN     NaN   \n",
       "\n",
       "           total    pass withheld  extra  \n",
       "count   185667.0  159072      113    0.0  \n",
       "unique     882.0       1        1    NaN  \n",
       "top        278.0       P        W    NaN  \n",
       "freq       592.0  159072      113    NaN  \n",
       "mean         NaN     NaN      NaN    NaN  \n",
       "std          NaN     NaN      NaN    NaN  \n",
       "min          NaN     NaN      NaN    NaN  \n",
       "25%          NaN     NaN      NaN    NaN  \n",
       "50%          NaN     NaN      NaN    NaN  \n",
       "75%          NaN     NaN      NaN    NaN  \n",
       "max          NaN     NaN      NaN    NaN  "
      ]
     },
     "execution_count": 260,
     "metadata": {},
     "output_type": "execute_result"
    }
   ],
   "source": [
    "sslc.describe(include='all')"
   ]
  },
  {
   "cell_type": "markdown",
   "id": "9fb089b2",
   "metadata": {},
   "source": [
    "### Number of bytes consumed"
   ]
  },
  {
   "cell_type": "markdown",
   "id": "0851e085",
   "metadata": {},
   "source": [
    "#### By DataFrame"
   ]
  },
  {
   "cell_type": "code",
   "execution_count": 261,
   "id": "e7cfa638",
   "metadata": {
    "scrolled": true
   },
   "outputs": [
    {
     "data": {
      "text/plain": [
       "Index       1485336\n",
       "region      1485336\n",
       "name        1485336\n",
       "fl          1485336\n",
       "sl          1485336\n",
       "math        1485336\n",
       "sci         1485336\n",
       "ss          1485336\n",
       "total       1485336\n",
       "pass        1485336\n",
       "withheld    1485336\n",
       "extra       1485336\n",
       "dtype: int64"
      ]
     },
     "execution_count": 261,
     "metadata": {},
     "output_type": "execute_result"
    }
   ],
   "source": [
    "sslc.memory_usage()"
   ]
  },
  {
   "cell_type": "markdown",
   "id": "9766489b",
   "metadata": {},
   "source": [
    "#### By a Specific Columns"
   ]
  },
  {
   "cell_type": "code",
   "execution_count": 63,
   "id": "a6c17f43",
   "metadata": {},
   "outputs": [
    {
     "data": {
      "text/plain": [
       "1485336"
      ]
     },
     "execution_count": 63,
     "metadata": {},
     "output_type": "execute_result"
    }
   ],
   "source": [
    "sslc['pass'].nbytes"
   ]
  },
  {
   "cell_type": "markdown",
   "id": "925b29cb",
   "metadata": {},
   "source": [
    "#### Accessing a Column"
   ]
  },
  {
   "cell_type": "code",
   "execution_count": 64,
   "id": "bcca071a",
   "metadata": {},
   "outputs": [
    {
     "data": {
      "text/plain": [
       "0         A\n",
       "1         A\n",
       "2         A\n",
       "3         A\n",
       "4         A\n",
       "         ..\n",
       "185662    C\n",
       "185663    C\n",
       "185664    C\n",
       "185665    C\n",
       "185666    C\n",
       "Name: region, Length: 185667, dtype: object"
      ]
     },
     "execution_count": 64,
     "metadata": {},
     "output_type": "execute_result"
    }
   ],
   "source": [
    "#Square brackets\n",
    "sslc['region']"
   ]
  },
  {
   "cell_type": "code",
   "execution_count": 65,
   "id": "2d2d3e14",
   "metadata": {},
   "outputs": [
    {
     "data": {
      "text/plain": [
       "Index(['region', 'roll_number', 'name', 'fl', 'sl', 'math', 'sci', 'ss',\n",
       "       'total', 'pass', 'withheld', 'extra'],\n",
       "      dtype='object')"
      ]
     },
     "execution_count": 65,
     "metadata": {},
     "output_type": "execute_result"
    }
   ],
   "source": [
    "#Print all column names\n",
    "sslc.columns"
   ]
  },
  {
   "cell_type": "code",
   "execution_count": 66,
   "id": "2952df4b",
   "metadata": {},
   "outputs": [
    {
     "data": {
      "text/plain": [
       "0         NaN\n",
       "1         NaN\n",
       "2         NaN\n",
       "3         NaN\n",
       "4         NaN\n",
       "         ... \n",
       "185662    NaN\n",
       "185663    NaN\n",
       "185664    NaN\n",
       "185665    NaN\n",
       "185666    NaN\n",
       "Name: withheld, Length: 185667, dtype: object"
      ]
     },
     "execution_count": 66,
     "metadata": {},
     "output_type": "execute_result"
    }
   ],
   "source": [
    "#Dot operator\n",
    "sslc.withheld"
   ]
  },
  {
   "cell_type": "markdown",
   "id": "5fefcbeb",
   "metadata": {},
   "source": [
    "#### Reterving rows"
   ]
  },
  {
   "cell_type": "markdown",
   "id": "31c7c655",
   "metadata": {},
   "source": [
    "#### By default numerical index given by Pandas"
   ]
  },
  {
   "cell_type": "code",
   "execution_count": 67,
   "id": "f9d00322",
   "metadata": {},
   "outputs": [
    {
     "data": {
      "text/plain": [
       "region                   A\n",
       "roll_number          10001\n",
       "name           ABINESH T N\n",
       "fl                     053\n",
       "sl                     036\n",
       "math                    28\n",
       "sci                     16\n",
       "ss                      44\n",
       "total                  177\n",
       "pass                   NaN\n",
       "withheld               NaN\n",
       "extra                  NaN\n",
       "Name: 0, dtype: object"
      ]
     },
     "execution_count": 67,
     "metadata": {},
     "output_type": "execute_result"
    }
   ],
   "source": [
    "sslc.iloc[0]"
   ]
  },
  {
   "cell_type": "markdown",
   "id": "08b8a4e3",
   "metadata": {},
   "source": [
    "#### Change index of dataframe"
   ]
  },
  {
   "cell_type": "code",
   "execution_count": 71,
   "id": "e94429c0",
   "metadata": {},
   "outputs": [],
   "source": [
    "sslc.set_index('roll_number',inplace=True)"
   ]
  },
  {
   "cell_type": "markdown",
   "id": "7829746f",
   "metadata": {},
   "source": [
    "#### Access row by index column specified by user"
   ]
  },
  {
   "cell_type": "code",
   "execution_count": 72,
   "id": "5c67c77c",
   "metadata": {},
   "outputs": [
    {
     "data": {
      "text/plain": [
       "region                A\n",
       "name        ABINESH T N\n",
       "fl                  053\n",
       "sl                  036\n",
       "math                 28\n",
       "sci                  16\n",
       "ss                   44\n",
       "total               177\n",
       "pass                NaN\n",
       "withheld            NaN\n",
       "extra               NaN\n",
       "Name: 10001, dtype: object"
      ]
     },
     "execution_count": 72,
     "metadata": {},
     "output_type": "execute_result"
    }
   ],
   "source": [
    "sslc.loc[10001]"
   ]
  },
  {
   "cell_type": "markdown",
   "id": "342065a6",
   "metadata": {},
   "source": [
    "### Accessing a data in dataframe"
   ]
  },
  {
   "cell_type": "markdown",
   "id": "cac104a3",
   "metadata": {},
   "source": [
    "#### Using row and column indices given by Pandas"
   ]
  },
  {
   "cell_type": "markdown",
   "id": "f826c851",
   "metadata": {},
   "source": [
    "sslc.iat[0,1]"
   ]
  },
  {
   "cell_type": "markdown",
   "id": "f489db3c",
   "metadata": {},
   "source": [
    "#### Using indices specified by programmer"
   ]
  },
  {
   "cell_type": "code",
   "execution_count": 83,
   "id": "14c74589",
   "metadata": {},
   "outputs": [
    {
     "data": {
      "text/plain": [
       "'ABINESH T N'"
      ]
     },
     "execution_count": 83,
     "metadata": {},
     "output_type": "execute_result"
    }
   ],
   "source": [
    "sslc.at[10001,'name']"
   ]
  },
  {
   "cell_type": "markdown",
   "id": "0cc8def9",
   "metadata": {},
   "source": [
    "#### Replace a value"
   ]
  },
  {
   "cell_type": "code",
   "execution_count": 80,
   "id": "0ceced45",
   "metadata": {},
   "outputs": [],
   "source": [
    "sslc['fl'].replace('AA',np.nan,inplace=True)\n",
    "sslc['sl'].replace('AA',np.nan,inplace=True)\n",
    "sslc['math'].replace('AA',np.nan,inplace=True)\n",
    "sslc['sci'].replace('AA',np.nan,inplace=True)\n",
    "sslc['ss'].replace('AA',np.nan,inplace=True)\n",
    "sslc['total'].replace('AA',np.nan,inplace=True)"
   ]
  },
  {
   "cell_type": "markdown",
   "id": "6280d2d4",
   "metadata": {},
   "source": [
    "#### Find unique values in a column"
   ]
  },
  {
   "cell_type": "code",
   "execution_count": 79,
   "id": "226000cb",
   "metadata": {},
   "outputs": [
    {
     "data": {
      "text/plain": [
       "array(['036', '037', '056', '064', '045', '046', '071', '040', '042',\n",
       "       '041', '039', '038', '048', '043', '035', '032', '052', '058',\n",
       "       '063', '031', '047', '055', '028', '029', '051', '059', '057',\n",
       "       '033', '072', '062', '061', '065', '050', '049', '066', '069',\n",
       "       '053', '077', '075', '054', '068', '024', '026', '060', '074',\n",
       "       '023', '025', '027', '018', '017', '034', '020', '021', '022',\n",
       "       '067', '015', '019', '016', '073', '080', '079', '070', '030',\n",
       "       '044', '078', '085', '076', '083', '084', '092', '081', '082',\n",
       "       '088', '086', '087', '089', '014', '012', '011', '010', '091',\n",
       "       '008', '090', '009', '093', '094', '013', '006', '007', '004',\n",
       "       '095', '096', '005', '097'], dtype=object)"
      ]
     },
     "execution_count": 79,
     "metadata": {},
     "output_type": "execute_result"
    }
   ],
   "source": [
    "sslc['sl'].unique()"
   ]
  },
  {
   "cell_type": "markdown",
   "id": "237e52d1",
   "metadata": {},
   "source": [
    "#### Change datatype of a column"
   ]
  },
  {
   "cell_type": "code",
   "execution_count": 273,
   "id": "23e867f6",
   "metadata": {},
   "outputs": [],
   "source": [
    "sslc['fl'] = sslc['fl'].astype(int)\n",
    "sslc['sl'] = sslc['sl'].astype(int)\n",
    "sslc['math'] = sslc['math'].astype(int)\n",
    "sslc['sci'] = sslc['sci'].astype(int)\n",
    "sslc['ss'] = sslc['ss'].astype(int)\n",
    "sslc['total'] = sslc['total'].astype(int)"
   ]
  },
  {
   "cell_type": "code",
   "execution_count": 84,
   "id": "25bd6c16",
   "metadata": {},
   "outputs": [],
   "source": [
    "sslc['fl'] = pd.to_numeric(sslc['fl'], errors='coerce')\n",
    "sslc['sl'] = pd.to_numeric(sslc['sl'], errors='coerce')\n",
    "sslc['math'] = pd.to_numeric(sslc['math'], errors='coerce')\n",
    "sslc['sci'] = pd.to_numeric(sslc['sci'], errors='coerce')\n",
    "sslc['ss'] = pd.to_numeric(sslc['ss'], errors='coerce')\n",
    "sslc['total'] = pd.to_numeric(sslc['total'], errors='coerce')"
   ]
  },
  {
   "cell_type": "code",
   "execution_count": 85,
   "id": "907e6a40",
   "metadata": {},
   "outputs": [
    {
     "name": "stdout",
     "output_type": "stream",
     "text": [
      "<class 'pandas.core.frame.DataFrame'>\n",
      "Int64Index: 185667 entries, 10001 to 199999\n",
      "Data columns (total 11 columns):\n",
      " #   Column    Non-Null Count   Dtype  \n",
      "---  ------    --------------   -----  \n",
      " 0   region    185667 non-null  object \n",
      " 1   name      185667 non-null  object \n",
      " 2   fl        185642 non-null  float64\n",
      " 3   sl        185667 non-null  int64  \n",
      " 4   math      185667 non-null  int64  \n",
      " 5   sci       185667 non-null  int64  \n",
      " 6   ss        185667 non-null  int64  \n",
      " 7   total     185667 non-null  int64  \n",
      " 8   pass      159072 non-null  object \n",
      " 9   withheld  113 non-null     object \n",
      " 10  extra     0 non-null       float64\n",
      "dtypes: float64(2), int64(5), object(4)\n",
      "memory usage: 21.0+ MB\n"
     ]
    }
   ],
   "source": [
    "sslc.info()"
   ]
  },
  {
   "cell_type": "code",
   "execution_count": 88,
   "id": "59f63bb0",
   "metadata": {},
   "outputs": [
    {
     "data": {
      "text/plain": [
       "1485336"
      ]
     },
     "execution_count": 88,
     "metadata": {},
     "output_type": "execute_result"
    }
   ],
   "source": [
    "sslc['sl'].nbytes"
   ]
  },
  {
   "cell_type": "code",
   "execution_count": 87,
   "id": "e54d81f7",
   "metadata": {},
   "outputs": [
    {
     "data": {
      "text/plain": [
       "1485336"
      ]
     },
     "execution_count": 87,
     "metadata": {},
     "output_type": "execute_result"
    }
   ],
   "source": [
    "sslc['name'].nbytes"
   ]
  },
  {
   "cell_type": "code",
   "execution_count": 89,
   "id": "d525c786",
   "metadata": {},
   "outputs": [
    {
     "data": {
      "text/html": [
       "<div>\n",
       "<style scoped>\n",
       "    .dataframe tbody tr th:only-of-type {\n",
       "        vertical-align: middle;\n",
       "    }\n",
       "\n",
       "    .dataframe tbody tr th {\n",
       "        vertical-align: top;\n",
       "    }\n",
       "\n",
       "    .dataframe thead th {\n",
       "        text-align: right;\n",
       "    }\n",
       "</style>\n",
       "<table border=\"1\" class=\"dataframe\">\n",
       "  <thead>\n",
       "    <tr style=\"text-align: right;\">\n",
       "      <th></th>\n",
       "      <th>fl</th>\n",
       "      <th>sl</th>\n",
       "      <th>math</th>\n",
       "      <th>sci</th>\n",
       "      <th>ss</th>\n",
       "      <th>total</th>\n",
       "      <th>extra</th>\n",
       "    </tr>\n",
       "  </thead>\n",
       "  <tbody>\n",
       "    <tr>\n",
       "      <th>count</th>\n",
       "      <td>185642.000000</td>\n",
       "      <td>185667.000000</td>\n",
       "      <td>185667.000000</td>\n",
       "      <td>185667.000000</td>\n",
       "      <td>185667.000000</td>\n",
       "      <td>185667.000000</td>\n",
       "      <td>0.0</td>\n",
       "    </tr>\n",
       "    <tr>\n",
       "      <th>mean</th>\n",
       "      <td>73.564430</td>\n",
       "      <td>53.838178</td>\n",
       "      <td>62.845998</td>\n",
       "      <td>50.710395</td>\n",
       "      <td>63.186312</td>\n",
       "      <td>304.055713</td>\n",
       "      <td>NaN</td>\n",
       "    </tr>\n",
       "    <tr>\n",
       "      <th>std</th>\n",
       "      <td>14.124606</td>\n",
       "      <td>15.339820</td>\n",
       "      <td>23.483578</td>\n",
       "      <td>20.049274</td>\n",
       "      <td>16.916138</td>\n",
       "      <td>80.573235</td>\n",
       "      <td>NaN</td>\n",
       "    </tr>\n",
       "    <tr>\n",
       "      <th>min</th>\n",
       "      <td>4.000000</td>\n",
       "      <td>4.000000</td>\n",
       "      <td>1.000000</td>\n",
       "      <td>2.000000</td>\n",
       "      <td>3.000000</td>\n",
       "      <td>0.000000</td>\n",
       "      <td>NaN</td>\n",
       "    </tr>\n",
       "    <tr>\n",
       "      <th>25%</th>\n",
       "      <td>65.000000</td>\n",
       "      <td>43.000000</td>\n",
       "      <td>43.000000</td>\n",
       "      <td>35.000000</td>\n",
       "      <td>51.000000</td>\n",
       "      <td>246.000000</td>\n",
       "      <td>NaN</td>\n",
       "    </tr>\n",
       "    <tr>\n",
       "      <th>50%</th>\n",
       "      <td>76.000000</td>\n",
       "      <td>53.000000</td>\n",
       "      <td>62.000000</td>\n",
       "      <td>49.000000</td>\n",
       "      <td>64.000000</td>\n",
       "      <td>302.000000</td>\n",
       "      <td>NaN</td>\n",
       "    </tr>\n",
       "    <tr>\n",
       "      <th>75%</th>\n",
       "      <td>85.000000</td>\n",
       "      <td>65.000000</td>\n",
       "      <td>84.000000</td>\n",
       "      <td>65.000000</td>\n",
       "      <td>76.000000</td>\n",
       "      <td>366.000000</td>\n",
       "      <td>NaN</td>\n",
       "    </tr>\n",
       "    <tr>\n",
       "      <th>max</th>\n",
       "      <td>98.000000</td>\n",
       "      <td>97.000000</td>\n",
       "      <td>100.000000</td>\n",
       "      <td>100.000000</td>\n",
       "      <td>100.000000</td>\n",
       "      <td>488.000000</td>\n",
       "      <td>NaN</td>\n",
       "    </tr>\n",
       "  </tbody>\n",
       "</table>\n",
       "</div>"
      ],
      "text/plain": [
       "                  fl             sl           math            sci  \\\n",
       "count  185642.000000  185667.000000  185667.000000  185667.000000   \n",
       "mean       73.564430      53.838178      62.845998      50.710395   \n",
       "std        14.124606      15.339820      23.483578      20.049274   \n",
       "min         4.000000       4.000000       1.000000       2.000000   \n",
       "25%        65.000000      43.000000      43.000000      35.000000   \n",
       "50%        76.000000      53.000000      62.000000      49.000000   \n",
       "75%        85.000000      65.000000      84.000000      65.000000   \n",
       "max        98.000000      97.000000     100.000000     100.000000   \n",
       "\n",
       "                  ss          total  extra  \n",
       "count  185667.000000  185667.000000    0.0  \n",
       "mean       63.186312     304.055713    NaN  \n",
       "std        16.916138      80.573235    NaN  \n",
       "min         3.000000       0.000000    NaN  \n",
       "25%        51.000000     246.000000    NaN  \n",
       "50%        64.000000     302.000000    NaN  \n",
       "75%        76.000000     366.000000    NaN  \n",
       "max       100.000000     488.000000    NaN  "
      ]
     },
     "execution_count": 89,
     "metadata": {},
     "output_type": "execute_result"
    }
   ],
   "source": [
    "sslc.describe()"
   ]
  },
  {
   "cell_type": "code",
   "execution_count": 278,
   "id": "1a65a5b1",
   "metadata": {},
   "outputs": [
    {
     "data": {
      "text/plain": [
       "Index       1485336\n",
       "region      1485336\n",
       "name        1485336\n",
       "fl          1485336\n",
       "sl          1485336\n",
       "math        1485336\n",
       "sci         1485336\n",
       "ss          1485336\n",
       "total       1485336\n",
       "pass        1485336\n",
       "withheld    1485336\n",
       "extra       1485336\n",
       "dtype: int64"
      ]
     },
     "execution_count": 278,
     "metadata": {},
     "output_type": "execute_result"
    }
   ],
   "source": [
    "sslc.memory_usage()"
   ]
  },
  {
   "cell_type": "markdown",
   "id": "511a55d7",
   "metadata": {},
   "source": [
    "#### Create sub dataframe with only a specific datatype"
   ]
  },
  {
   "cell_type": "code",
   "execution_count": 279,
   "id": "b1a0925c",
   "metadata": {},
   "outputs": [],
   "source": [
    "#filtered data frame\n",
    "non_numeric = sslc.select_dtypes(include=[object])"
   ]
  },
  {
   "cell_type": "markdown",
   "id": "5d003d90",
   "metadata": {},
   "source": [
    "#### Statistical measures of columns"
   ]
  },
  {
   "cell_type": "code",
   "execution_count": 280,
   "id": "32fa7ae8",
   "metadata": {},
   "outputs": [
    {
     "data": {
      "text/plain": [
       "488"
      ]
     },
     "execution_count": 280,
     "metadata": {},
     "output_type": "execute_result"
    }
   ],
   "source": [
    "sslc['total'].max()"
   ]
  },
  {
   "cell_type": "code",
   "execution_count": 281,
   "id": "50b4a862",
   "metadata": {},
   "outputs": [
    {
     "data": {
      "text/plain": [
       "0"
      ]
     },
     "execution_count": 281,
     "metadata": {},
     "output_type": "execute_result"
    }
   ],
   "source": [
    "sslc['total'].min()"
   ]
  },
  {
   "cell_type": "code",
   "execution_count": 282,
   "id": "66c696c4",
   "metadata": {},
   "outputs": [
    {
     "data": {
      "text/plain": [
       "304.05571264683545"
      ]
     },
     "execution_count": 282,
     "metadata": {},
     "output_type": "execute_result"
    }
   ],
   "source": [
    "sslc['total'].mean()"
   ]
  },
  {
   "cell_type": "code",
   "execution_count": 283,
   "id": "d6301f06",
   "metadata": {},
   "outputs": [
    {
     "data": {
      "text/plain": [
       "302.0"
      ]
     },
     "execution_count": 283,
     "metadata": {},
     "output_type": "execute_result"
    }
   ],
   "source": [
    "sslc['total'].median()"
   ]
  },
  {
   "cell_type": "code",
   "execution_count": 284,
   "id": "12e5a62e",
   "metadata": {},
   "outputs": [
    {
     "data": {
      "text/plain": [
       "0    B\n",
       "dtype: object"
      ]
     },
     "execution_count": 284,
     "metadata": {},
     "output_type": "execute_result"
    }
   ],
   "source": [
    "sslc['region'].mode()"
   ]
  },
  {
   "cell_type": "markdown",
   "id": "2d06a0b3",
   "metadata": {},
   "source": [
    "#### Verify mode by priniting count of all regions"
   ]
  },
  {
   "cell_type": "code",
   "execution_count": 237,
   "id": "91dcb978",
   "metadata": {},
   "outputs": [
    {
     "data": {
      "text/plain": [
       "80.5732350749585"
      ]
     },
     "execution_count": 237,
     "metadata": {},
     "output_type": "execute_result"
    }
   ],
   "source": [
    "sslc['total'].std()"
   ]
  },
  {
   "cell_type": "code",
   "execution_count": 285,
   "id": "b965ce89",
   "metadata": {},
   "outputs": [
    {
     "data": {
      "text/plain": [
       "B    41341\n",
       "A    36401\n",
       "C    31261\n",
       "F    26414\n",
       "D    25470\n",
       "E    24780\n",
       "Name: region, dtype: int64"
      ]
     },
     "execution_count": 285,
     "metadata": {},
     "output_type": "execute_result"
    }
   ],
   "source": [
    "sslc['region'].value_counts()"
   ]
  },
  {
   "cell_type": "code",
   "execution_count": 286,
   "id": "33a5d1a8",
   "metadata": {},
   "outputs": [
    {
     "data": {
      "text/plain": [
       "region           0\n",
       "name             0\n",
       "fl               0\n",
       "sl               0\n",
       "math             0\n",
       "sci              0\n",
       "ss               0\n",
       "total            0\n",
       "pass         26595\n",
       "withheld    185554\n",
       "extra       185667\n",
       "dtype: int64"
      ]
     },
     "execution_count": 286,
     "metadata": {},
     "output_type": "execute_result"
    }
   ],
   "source": [
    "sslc.isnull().sum()"
   ]
  },
  {
   "cell_type": "markdown",
   "id": "f43b1698",
   "metadata": {},
   "source": [
    "#### Listdown unique values of a column"
   ]
  },
  {
   "cell_type": "code",
   "execution_count": 287,
   "id": "7b67a4a2",
   "metadata": {},
   "outputs": [
    {
     "data": {
      "text/plain": [
       "array([nan, 'P'], dtype=object)"
      ]
     },
     "execution_count": 287,
     "metadata": {},
     "output_type": "execute_result"
    }
   ],
   "source": [
    "sslc['pass'].unique()"
   ]
  },
  {
   "cell_type": "code",
   "execution_count": 288,
   "id": "09f7a7bc",
   "metadata": {},
   "outputs": [
    {
     "data": {
      "text/plain": [
       "P    159072\n",
       "Name: pass, dtype: int64"
      ]
     },
     "execution_count": 288,
     "metadata": {},
     "output_type": "execute_result"
    }
   ],
   "source": [
    "sslc['pass'].value_counts()"
   ]
  },
  {
   "cell_type": "code",
   "execution_count": 222,
   "id": "75ba6b18",
   "metadata": {},
   "outputs": [
    {
     "data": {
      "text/plain": [
       "26595"
      ]
     },
     "execution_count": 222,
     "metadata": {},
     "output_type": "execute_result"
    }
   ],
   "source": [
    "sslc['pass'].isnull().sum()"
   ]
  },
  {
   "cell_type": "markdown",
   "id": "09d6e74c",
   "metadata": {},
   "source": [
    "#### Replace null values of a column by a value"
   ]
  },
  {
   "cell_type": "code",
   "execution_count": 289,
   "id": "97bf74d7",
   "metadata": {},
   "outputs": [],
   "source": [
    "sslc['pass'] = sslc['pass'].fillna('F')"
   ]
  },
  {
   "cell_type": "code",
   "execution_count": 224,
   "id": "3284e8d9",
   "metadata": {},
   "outputs": [
    {
     "data": {
      "text/plain": [
       "P    159072\n",
       "F     26595\n",
       "Name: pass, dtype: int64"
      ]
     },
     "execution_count": 224,
     "metadata": {},
     "output_type": "execute_result"
    }
   ],
   "source": [
    "sslc['pass'].value_counts()"
   ]
  },
  {
   "cell_type": "code",
   "execution_count": 290,
   "id": "537a6b81",
   "metadata": {},
   "outputs": [
    {
     "data": {
      "text/plain": [
       "W    113\n",
       "Name: withheld, dtype: int64"
      ]
     },
     "execution_count": 290,
     "metadata": {},
     "output_type": "execute_result"
    }
   ],
   "source": [
    "sslc.withheld.value_counts()"
   ]
  },
  {
   "cell_type": "markdown",
   "id": "78f8b701",
   "metadata": {},
   "source": [
    "### Conditional Indexing"
   ]
  },
  {
   "cell_type": "markdown",
   "id": "5788c87a",
   "metadata": {},
   "source": [
    "#### Create a sub dataframe with only withheld results"
   ]
  },
  {
   "cell_type": "code",
   "execution_count": 92,
   "id": "6ebecc53",
   "metadata": {},
   "outputs": [],
   "source": [
    "sslc_WH = sslc[sslc['withheld']=='W']"
   ]
  },
  {
   "cell_type": "code",
   "execution_count": 93,
   "id": "a0a203ce",
   "metadata": {},
   "outputs": [
    {
     "data": {
      "text/html": [
       "<div>\n",
       "<style scoped>\n",
       "    .dataframe tbody tr th:only-of-type {\n",
       "        vertical-align: middle;\n",
       "    }\n",
       "\n",
       "    .dataframe tbody tr th {\n",
       "        vertical-align: top;\n",
       "    }\n",
       "\n",
       "    .dataframe thead th {\n",
       "        text-align: right;\n",
       "    }\n",
       "</style>\n",
       "<table border=\"1\" class=\"dataframe\">\n",
       "  <thead>\n",
       "    <tr style=\"text-align: right;\">\n",
       "      <th></th>\n",
       "      <th>region</th>\n",
       "      <th>name</th>\n",
       "      <th>fl</th>\n",
       "      <th>sl</th>\n",
       "      <th>math</th>\n",
       "      <th>sci</th>\n",
       "      <th>ss</th>\n",
       "      <th>total</th>\n",
       "      <th>pass</th>\n",
       "      <th>withheld</th>\n",
       "      <th>extra</th>\n",
       "    </tr>\n",
       "    <tr>\n",
       "      <th>roll_number</th>\n",
       "      <th></th>\n",
       "      <th></th>\n",
       "      <th></th>\n",
       "      <th></th>\n",
       "      <th></th>\n",
       "      <th></th>\n",
       "      <th></th>\n",
       "      <th></th>\n",
       "      <th></th>\n",
       "      <th></th>\n",
       "      <th></th>\n",
       "    </tr>\n",
       "  </thead>\n",
       "  <tbody>\n",
       "    <tr>\n",
       "      <th>27815</th>\n",
       "      <td>C</td>\n",
       "      <td>ARUN REGIS A</td>\n",
       "      <td>71.0</td>\n",
       "      <td>71</td>\n",
       "      <td>63</td>\n",
       "      <td>55</td>\n",
       "      <td>57</td>\n",
       "      <td>246</td>\n",
       "      <td>NaN</td>\n",
       "      <td>W</td>\n",
       "      <td>NaN</td>\n",
       "    </tr>\n",
       "    <tr>\n",
       "      <th>27816</th>\n",
       "      <td>C</td>\n",
       "      <td>NITHISH J</td>\n",
       "      <td>69.0</td>\n",
       "      <td>71</td>\n",
       "      <td>45</td>\n",
       "      <td>43</td>\n",
       "      <td>72</td>\n",
       "      <td>229</td>\n",
       "      <td>NaN</td>\n",
       "      <td>W</td>\n",
       "      <td>NaN</td>\n",
       "    </tr>\n",
       "    <tr>\n",
       "      <th>27817</th>\n",
       "      <td>C</td>\n",
       "      <td>LITHIYA ROSE P J</td>\n",
       "      <td>65.0</td>\n",
       "      <td>71</td>\n",
       "      <td>42</td>\n",
       "      <td>46</td>\n",
       "      <td>67</td>\n",
       "      <td>220</td>\n",
       "      <td>NaN</td>\n",
       "      <td>W</td>\n",
       "      <td>NaN</td>\n",
       "    </tr>\n",
       "    <tr>\n",
       "      <th>27818</th>\n",
       "      <td>C</td>\n",
       "      <td>MANJU D K</td>\n",
       "      <td>77.0</td>\n",
       "      <td>71</td>\n",
       "      <td>91</td>\n",
       "      <td>45</td>\n",
       "      <td>74</td>\n",
       "      <td>287</td>\n",
       "      <td>NaN</td>\n",
       "      <td>W</td>\n",
       "      <td>NaN</td>\n",
       "    </tr>\n",
       "    <tr>\n",
       "      <th>27819</th>\n",
       "      <td>C</td>\n",
       "      <td>NIVASA P</td>\n",
       "      <td>73.0</td>\n",
       "      <td>71</td>\n",
       "      <td>67</td>\n",
       "      <td>48</td>\n",
       "      <td>63</td>\n",
       "      <td>251</td>\n",
       "      <td>NaN</td>\n",
       "      <td>W</td>\n",
       "      <td>NaN</td>\n",
       "    </tr>\n",
       "    <tr>\n",
       "      <th>...</th>\n",
       "      <td>...</td>\n",
       "      <td>...</td>\n",
       "      <td>...</td>\n",
       "      <td>...</td>\n",
       "      <td>...</td>\n",
       "      <td>...</td>\n",
       "      <td>...</td>\n",
       "      <td>...</td>\n",
       "      <td>...</td>\n",
       "      <td>...</td>\n",
       "      <td>...</td>\n",
       "    </tr>\n",
       "    <tr>\n",
       "      <th>175759</th>\n",
       "      <td>A</td>\n",
       "      <td>MURUGAN P   (ENG - EXEMPTION)</td>\n",
       "      <td>57.0</td>\n",
       "      <td>49</td>\n",
       "      <td>36</td>\n",
       "      <td>18</td>\n",
       "      <td>36</td>\n",
       "      <td>147</td>\n",
       "      <td>NaN</td>\n",
       "      <td>W</td>\n",
       "      <td>NaN</td>\n",
       "    </tr>\n",
       "    <tr>\n",
       "      <th>177650</th>\n",
       "      <td>A</td>\n",
       "      <td>PANJU K    DEAF AND DUMB</td>\n",
       "      <td>40.0</td>\n",
       "      <td>48</td>\n",
       "      <td>35</td>\n",
       "      <td>35</td>\n",
       "      <td>28</td>\n",
       "      <td>138</td>\n",
       "      <td>NaN</td>\n",
       "      <td>W</td>\n",
       "      <td>NaN</td>\n",
       "    </tr>\n",
       "    <tr>\n",
       "      <th>177667</th>\n",
       "      <td>A</td>\n",
       "      <td>VEERALAKSHMI P DEAF AND DUMB</td>\n",
       "      <td>29.0</td>\n",
       "      <td>43</td>\n",
       "      <td>16</td>\n",
       "      <td>14</td>\n",
       "      <td>38</td>\n",
       "      <td>97</td>\n",
       "      <td>NaN</td>\n",
       "      <td>W</td>\n",
       "      <td>NaN</td>\n",
       "    </tr>\n",
       "    <tr>\n",
       "      <th>184905</th>\n",
       "      <td>B</td>\n",
       "      <td>SATHYA R</td>\n",
       "      <td>15.0</td>\n",
       "      <td>67</td>\n",
       "      <td>10</td>\n",
       "      <td>8</td>\n",
       "      <td>41</td>\n",
       "      <td>74</td>\n",
       "      <td>NaN</td>\n",
       "      <td>W</td>\n",
       "      <td>NaN</td>\n",
       "    </tr>\n",
       "    <tr>\n",
       "      <th>184946</th>\n",
       "      <td>B</td>\n",
       "      <td>MARIYAMMAL M</td>\n",
       "      <td>14.0</td>\n",
       "      <td>40</td>\n",
       "      <td>14</td>\n",
       "      <td>6</td>\n",
       "      <td>45</td>\n",
       "      <td>79</td>\n",
       "      <td>NaN</td>\n",
       "      <td>W</td>\n",
       "      <td>NaN</td>\n",
       "    </tr>\n",
       "  </tbody>\n",
       "</table>\n",
       "<p>113 rows × 11 columns</p>\n",
       "</div>"
      ],
      "text/plain": [
       "            region                           name    fl  sl  math  sci  ss  \\\n",
       "roll_number                                                                  \n",
       "27815            C                   ARUN REGIS A  71.0  71    63   55  57   \n",
       "27816            C                      NITHISH J  69.0  71    45   43  72   \n",
       "27817            C               LITHIYA ROSE P J  65.0  71    42   46  67   \n",
       "27818            C                      MANJU D K  77.0  71    91   45  74   \n",
       "27819            C                       NIVASA P  73.0  71    67   48  63   \n",
       "...            ...                            ...   ...  ..   ...  ...  ..   \n",
       "175759           A  MURUGAN P   (ENG - EXEMPTION)  57.0  49    36   18  36   \n",
       "177650           A       PANJU K    DEAF AND DUMB  40.0  48    35   35  28   \n",
       "177667           A   VEERALAKSHMI P DEAF AND DUMB  29.0  43    16   14  38   \n",
       "184905           B                       SATHYA R  15.0  67    10    8  41   \n",
       "184946           B                   MARIYAMMAL M  14.0  40    14    6  45   \n",
       "\n",
       "             total pass withheld  extra  \n",
       "roll_number                              \n",
       "27815          246  NaN        W    NaN  \n",
       "27816          229  NaN        W    NaN  \n",
       "27817          220  NaN        W    NaN  \n",
       "27818          287  NaN        W    NaN  \n",
       "27819          251  NaN        W    NaN  \n",
       "...            ...  ...      ...    ...  \n",
       "175759         147  NaN        W    NaN  \n",
       "177650         138  NaN        W    NaN  \n",
       "177667          97  NaN        W    NaN  \n",
       "184905          74  NaN        W    NaN  \n",
       "184946          79  NaN        W    NaN  \n",
       "\n",
       "[113 rows x 11 columns]"
      ]
     },
     "execution_count": 93,
     "metadata": {},
     "output_type": "execute_result"
    }
   ],
   "source": [
    "sslc_WH"
   ]
  },
  {
   "cell_type": "markdown",
   "id": "f4f8c25a",
   "metadata": {},
   "source": [
    "#### Combining Conditions using and, or, xor"
   ]
  },
  {
   "cell_type": "code",
   "execution_count": 104,
   "id": "cdd57a96",
   "metadata": {},
   "outputs": [],
   "source": [
    "fl_and_sl = sslc[(sslc['fl']>75) & (sslc['sl']>75)]"
   ]
  },
  {
   "cell_type": "code",
   "execution_count": 105,
   "id": "d1863d59",
   "metadata": {},
   "outputs": [
    {
     "data": {
      "text/html": [
       "<div>\n",
       "<style scoped>\n",
       "    .dataframe tbody tr th:only-of-type {\n",
       "        vertical-align: middle;\n",
       "    }\n",
       "\n",
       "    .dataframe tbody tr th {\n",
       "        vertical-align: top;\n",
       "    }\n",
       "\n",
       "    .dataframe thead th {\n",
       "        text-align: right;\n",
       "    }\n",
       "</style>\n",
       "<table border=\"1\" class=\"dataframe\">\n",
       "  <thead>\n",
       "    <tr style=\"text-align: right;\">\n",
       "      <th></th>\n",
       "      <th>region</th>\n",
       "      <th>name</th>\n",
       "      <th>fl</th>\n",
       "      <th>sl</th>\n",
       "      <th>language_total</th>\n",
       "      <th>math</th>\n",
       "      <th>sci</th>\n",
       "      <th>ss</th>\n",
       "      <th>total</th>\n",
       "      <th>pass</th>\n",
       "      <th>withheld</th>\n",
       "      <th>extra</th>\n",
       "    </tr>\n",
       "    <tr>\n",
       "      <th>roll_number</th>\n",
       "      <th></th>\n",
       "      <th></th>\n",
       "      <th></th>\n",
       "      <th></th>\n",
       "      <th></th>\n",
       "      <th></th>\n",
       "      <th></th>\n",
       "      <th></th>\n",
       "      <th></th>\n",
       "      <th></th>\n",
       "      <th></th>\n",
       "      <th></th>\n",
       "    </tr>\n",
       "  </thead>\n",
       "  <tbody>\n",
       "    <tr>\n",
       "      <th>10082</th>\n",
       "      <td>A</td>\n",
       "      <td>BRABIN V</td>\n",
       "      <td>93.0</td>\n",
       "      <td>77</td>\n",
       "      <td>0</td>\n",
       "      <td>88</td>\n",
       "      <td>76</td>\n",
       "      <td>93</td>\n",
       "      <td>427</td>\n",
       "      <td>P</td>\n",
       "      <td>NaN</td>\n",
       "      <td>NaN</td>\n",
       "    </tr>\n",
       "    <tr>\n",
       "      <th>10088</th>\n",
       "      <td>A</td>\n",
       "      <td>JEBASUGIN C</td>\n",
       "      <td>92.0</td>\n",
       "      <td>77</td>\n",
       "      <td>0</td>\n",
       "      <td>99</td>\n",
       "      <td>76</td>\n",
       "      <td>92</td>\n",
       "      <td>436</td>\n",
       "      <td>P</td>\n",
       "      <td>NaN</td>\n",
       "      <td>NaN</td>\n",
       "    </tr>\n",
       "    <tr>\n",
       "      <th>10234</th>\n",
       "      <td>A</td>\n",
       "      <td>BENAZIR M</td>\n",
       "      <td>90.0</td>\n",
       "      <td>80</td>\n",
       "      <td>0</td>\n",
       "      <td>96</td>\n",
       "      <td>86</td>\n",
       "      <td>80</td>\n",
       "      <td>432</td>\n",
       "      <td>P</td>\n",
       "      <td>NaN</td>\n",
       "      <td>NaN</td>\n",
       "    </tr>\n",
       "    <tr>\n",
       "      <th>10241</th>\n",
       "      <td>A</td>\n",
       "      <td>JULIE T</td>\n",
       "      <td>93.0</td>\n",
       "      <td>79</td>\n",
       "      <td>0</td>\n",
       "      <td>97</td>\n",
       "      <td>72</td>\n",
       "      <td>83</td>\n",
       "      <td>424</td>\n",
       "      <td>P</td>\n",
       "      <td>NaN</td>\n",
       "      <td>NaN</td>\n",
       "    </tr>\n",
       "    <tr>\n",
       "      <th>10286</th>\n",
       "      <td>A</td>\n",
       "      <td>PAULJEBASTIN A</td>\n",
       "      <td>78.0</td>\n",
       "      <td>78</td>\n",
       "      <td>0</td>\n",
       "      <td>100</td>\n",
       "      <td>69</td>\n",
       "      <td>88</td>\n",
       "      <td>413</td>\n",
       "      <td>P</td>\n",
       "      <td>NaN</td>\n",
       "      <td>NaN</td>\n",
       "    </tr>\n",
       "    <tr>\n",
       "      <th>...</th>\n",
       "      <td>...</td>\n",
       "      <td>...</td>\n",
       "      <td>...</td>\n",
       "      <td>...</td>\n",
       "      <td>...</td>\n",
       "      <td>...</td>\n",
       "      <td>...</td>\n",
       "      <td>...</td>\n",
       "      <td>...</td>\n",
       "      <td>...</td>\n",
       "      <td>...</td>\n",
       "      <td>...</td>\n",
       "    </tr>\n",
       "    <tr>\n",
       "      <th>199646</th>\n",
       "      <td>C</td>\n",
       "      <td>NATARAJAN P</td>\n",
       "      <td>90.0</td>\n",
       "      <td>77</td>\n",
       "      <td>0</td>\n",
       "      <td>100</td>\n",
       "      <td>83</td>\n",
       "      <td>95</td>\n",
       "      <td>445</td>\n",
       "      <td>P</td>\n",
       "      <td>NaN</td>\n",
       "      <td>NaN</td>\n",
       "    </tr>\n",
       "    <tr>\n",
       "      <th>199670</th>\n",
       "      <td>C</td>\n",
       "      <td>VIJAY V</td>\n",
       "      <td>93.0</td>\n",
       "      <td>76</td>\n",
       "      <td>0</td>\n",
       "      <td>98</td>\n",
       "      <td>84</td>\n",
       "      <td>100</td>\n",
       "      <td>451</td>\n",
       "      <td>P</td>\n",
       "      <td>NaN</td>\n",
       "      <td>NaN</td>\n",
       "    </tr>\n",
       "    <tr>\n",
       "      <th>199710</th>\n",
       "      <td>C</td>\n",
       "      <td>SANGEETHA V</td>\n",
       "      <td>91.0</td>\n",
       "      <td>79</td>\n",
       "      <td>0</td>\n",
       "      <td>96</td>\n",
       "      <td>85</td>\n",
       "      <td>87</td>\n",
       "      <td>438</td>\n",
       "      <td>P</td>\n",
       "      <td>NaN</td>\n",
       "      <td>NaN</td>\n",
       "    </tr>\n",
       "    <tr>\n",
       "      <th>199813</th>\n",
       "      <td>C</td>\n",
       "      <td>SARANYA C</td>\n",
       "      <td>92.0</td>\n",
       "      <td>77</td>\n",
       "      <td>0</td>\n",
       "      <td>91</td>\n",
       "      <td>75</td>\n",
       "      <td>94</td>\n",
       "      <td>429</td>\n",
       "      <td>P</td>\n",
       "      <td>NaN</td>\n",
       "      <td>NaN</td>\n",
       "    </tr>\n",
       "    <tr>\n",
       "      <th>199914</th>\n",
       "      <td>C</td>\n",
       "      <td>GOWRI S K</td>\n",
       "      <td>91.0</td>\n",
       "      <td>80</td>\n",
       "      <td>0</td>\n",
       "      <td>99</td>\n",
       "      <td>94</td>\n",
       "      <td>97</td>\n",
       "      <td>461</td>\n",
       "      <td>P</td>\n",
       "      <td>NaN</td>\n",
       "      <td>NaN</td>\n",
       "    </tr>\n",
       "  </tbody>\n",
       "</table>\n",
       "<p>16205 rows × 12 columns</p>\n",
       "</div>"
      ],
      "text/plain": [
       "            region            name    fl  sl  language_total  math  sci   ss  \\\n",
       "roll_number                                                                    \n",
       "10082            A        BRABIN V  93.0  77               0    88   76   93   \n",
       "10088            A     JEBASUGIN C  92.0  77               0    99   76   92   \n",
       "10234            A       BENAZIR M  90.0  80               0    96   86   80   \n",
       "10241            A         JULIE T  93.0  79               0    97   72   83   \n",
       "10286            A  PAULJEBASTIN A  78.0  78               0   100   69   88   \n",
       "...            ...             ...   ...  ..             ...   ...  ...  ...   \n",
       "199646           C     NATARAJAN P  90.0  77               0   100   83   95   \n",
       "199670           C         VIJAY V  93.0  76               0    98   84  100   \n",
       "199710           C     SANGEETHA V  91.0  79               0    96   85   87   \n",
       "199813           C       SARANYA C  92.0  77               0    91   75   94   \n",
       "199914           C       GOWRI S K  91.0  80               0    99   94   97   \n",
       "\n",
       "             total pass withheld  extra  \n",
       "roll_number                              \n",
       "10082          427    P      NaN    NaN  \n",
       "10088          436    P      NaN    NaN  \n",
       "10234          432    P      NaN    NaN  \n",
       "10241          424    P      NaN    NaN  \n",
       "10286          413    P      NaN    NaN  \n",
       "...            ...  ...      ...    ...  \n",
       "199646         445    P      NaN    NaN  \n",
       "199670         451    P      NaN    NaN  \n",
       "199710         438    P      NaN    NaN  \n",
       "199813         429    P      NaN    NaN  \n",
       "199914         461    P      NaN    NaN  \n",
       "\n",
       "[16205 rows x 12 columns]"
      ]
     },
     "execution_count": 105,
     "metadata": {},
     "output_type": "execute_result"
    }
   ],
   "source": [
    "fl_and_sl"
   ]
  },
  {
   "cell_type": "code",
   "execution_count": 106,
   "id": "c6f209ee",
   "metadata": {},
   "outputs": [],
   "source": [
    "fl_or_sl = sslc[(sslc['fl']>75) | (sslc['sl']>75)]"
   ]
  },
  {
   "cell_type": "code",
   "execution_count": 108,
   "id": "1835ac31",
   "metadata": {},
   "outputs": [
    {
     "data": {
      "text/html": [
       "<div>\n",
       "<style scoped>\n",
       "    .dataframe tbody tr th:only-of-type {\n",
       "        vertical-align: middle;\n",
       "    }\n",
       "\n",
       "    .dataframe tbody tr th {\n",
       "        vertical-align: top;\n",
       "    }\n",
       "\n",
       "    .dataframe thead th {\n",
       "        text-align: right;\n",
       "    }\n",
       "</style>\n",
       "<table border=\"1\" class=\"dataframe\">\n",
       "  <thead>\n",
       "    <tr style=\"text-align: right;\">\n",
       "      <th></th>\n",
       "      <th>region</th>\n",
       "      <th>name</th>\n",
       "      <th>fl</th>\n",
       "      <th>sl</th>\n",
       "      <th>language_total</th>\n",
       "      <th>math</th>\n",
       "      <th>sci</th>\n",
       "      <th>ss</th>\n",
       "      <th>total</th>\n",
       "      <th>pass</th>\n",
       "      <th>withheld</th>\n",
       "      <th>extra</th>\n",
       "    </tr>\n",
       "    <tr>\n",
       "      <th>roll_number</th>\n",
       "      <th></th>\n",
       "      <th></th>\n",
       "      <th></th>\n",
       "      <th></th>\n",
       "      <th></th>\n",
       "      <th></th>\n",
       "      <th></th>\n",
       "      <th></th>\n",
       "      <th></th>\n",
       "      <th></th>\n",
       "      <th></th>\n",
       "      <th></th>\n",
       "    </tr>\n",
       "  </thead>\n",
       "  <tbody>\n",
       "    <tr>\n",
       "      <th>10004</th>\n",
       "      <td>A</td>\n",
       "      <td>ANITHRAJ S</td>\n",
       "      <td>87.0</td>\n",
       "      <td>64</td>\n",
       "      <td>0</td>\n",
       "      <td>83</td>\n",
       "      <td>58</td>\n",
       "      <td>65</td>\n",
       "      <td>357</td>\n",
       "      <td>P</td>\n",
       "      <td>NaN</td>\n",
       "      <td>NaN</td>\n",
       "    </tr>\n",
       "    <tr>\n",
       "      <th>10008</th>\n",
       "      <td>A</td>\n",
       "      <td>JEGAN R</td>\n",
       "      <td>87.0</td>\n",
       "      <td>71</td>\n",
       "      <td>0</td>\n",
       "      <td>97</td>\n",
       "      <td>71</td>\n",
       "      <td>81</td>\n",
       "      <td>407</td>\n",
       "      <td>P</td>\n",
       "      <td>NaN</td>\n",
       "      <td>NaN</td>\n",
       "    </tr>\n",
       "    <tr>\n",
       "      <th>10014</th>\n",
       "      <td>A</td>\n",
       "      <td>KRISHNADHAS R</td>\n",
       "      <td>83.0</td>\n",
       "      <td>48</td>\n",
       "      <td>0</td>\n",
       "      <td>82</td>\n",
       "      <td>42</td>\n",
       "      <td>64</td>\n",
       "      <td>319</td>\n",
       "      <td>P</td>\n",
       "      <td>NaN</td>\n",
       "      <td>NaN</td>\n",
       "    </tr>\n",
       "    <tr>\n",
       "      <th>10023</th>\n",
       "      <td>A</td>\n",
       "      <td>PRATHEESH R</td>\n",
       "      <td>76.0</td>\n",
       "      <td>58</td>\n",
       "      <td>0</td>\n",
       "      <td>61</td>\n",
       "      <td>74</td>\n",
       "      <td>73</td>\n",
       "      <td>342</td>\n",
       "      <td>P</td>\n",
       "      <td>NaN</td>\n",
       "      <td>NaN</td>\n",
       "    </tr>\n",
       "    <tr>\n",
       "      <th>10031</th>\n",
       "      <td>A</td>\n",
       "      <td>SANKAR T</td>\n",
       "      <td>76.0</td>\n",
       "      <td>55</td>\n",
       "      <td>0</td>\n",
       "      <td>60</td>\n",
       "      <td>52</td>\n",
       "      <td>59</td>\n",
       "      <td>302</td>\n",
       "      <td>P</td>\n",
       "      <td>NaN</td>\n",
       "      <td>NaN</td>\n",
       "    </tr>\n",
       "    <tr>\n",
       "      <th>...</th>\n",
       "      <td>...</td>\n",
       "      <td>...</td>\n",
       "      <td>...</td>\n",
       "      <td>...</td>\n",
       "      <td>...</td>\n",
       "      <td>...</td>\n",
       "      <td>...</td>\n",
       "      <td>...</td>\n",
       "      <td>...</td>\n",
       "      <td>...</td>\n",
       "      <td>...</td>\n",
       "      <td>...</td>\n",
       "    </tr>\n",
       "    <tr>\n",
       "      <th>199965</th>\n",
       "      <td>C</td>\n",
       "      <td>ARIF RAHUMAN S</td>\n",
       "      <td>92.0</td>\n",
       "      <td>68</td>\n",
       "      <td>0</td>\n",
       "      <td>78</td>\n",
       "      <td>65</td>\n",
       "      <td>83</td>\n",
       "      <td>386</td>\n",
       "      <td>P</td>\n",
       "      <td>NaN</td>\n",
       "      <td>NaN</td>\n",
       "    </tr>\n",
       "    <tr>\n",
       "      <th>199967</th>\n",
       "      <td>C</td>\n",
       "      <td>OLI RAJA D</td>\n",
       "      <td>77.0</td>\n",
       "      <td>53</td>\n",
       "      <td>0</td>\n",
       "      <td>39</td>\n",
       "      <td>35</td>\n",
       "      <td>60</td>\n",
       "      <td>264</td>\n",
       "      <td>P</td>\n",
       "      <td>NaN</td>\n",
       "      <td>NaN</td>\n",
       "    </tr>\n",
       "    <tr>\n",
       "      <th>199970</th>\n",
       "      <td>C</td>\n",
       "      <td>JEYABATHRI A</td>\n",
       "      <td>83.0</td>\n",
       "      <td>63</td>\n",
       "      <td>0</td>\n",
       "      <td>84</td>\n",
       "      <td>41</td>\n",
       "      <td>77</td>\n",
       "      <td>348</td>\n",
       "      <td>P</td>\n",
       "      <td>NaN</td>\n",
       "      <td>NaN</td>\n",
       "    </tr>\n",
       "    <tr>\n",
       "      <th>199980</th>\n",
       "      <td>C</td>\n",
       "      <td>DHANASEKAR P</td>\n",
       "      <td>83.0</td>\n",
       "      <td>56</td>\n",
       "      <td>0</td>\n",
       "      <td>79</td>\n",
       "      <td>49</td>\n",
       "      <td>73</td>\n",
       "      <td>340</td>\n",
       "      <td>P</td>\n",
       "      <td>NaN</td>\n",
       "      <td>NaN</td>\n",
       "    </tr>\n",
       "    <tr>\n",
       "      <th>199986</th>\n",
       "      <td>C</td>\n",
       "      <td>GOPU A</td>\n",
       "      <td>77.0</td>\n",
       "      <td>51</td>\n",
       "      <td>0</td>\n",
       "      <td>44</td>\n",
       "      <td>35</td>\n",
       "      <td>58</td>\n",
       "      <td>265</td>\n",
       "      <td>P</td>\n",
       "      <td>NaN</td>\n",
       "      <td>NaN</td>\n",
       "    </tr>\n",
       "  </tbody>\n",
       "</table>\n",
       "<p>96835 rows × 12 columns</p>\n",
       "</div>"
      ],
      "text/plain": [
       "            region            name    fl  sl  language_total  math  sci  ss  \\\n",
       "roll_number                                                                   \n",
       "10004            A      ANITHRAJ S  87.0  64               0    83   58  65   \n",
       "10008            A         JEGAN R  87.0  71               0    97   71  81   \n",
       "10014            A   KRISHNADHAS R  83.0  48               0    82   42  64   \n",
       "10023            A     PRATHEESH R  76.0  58               0    61   74  73   \n",
       "10031            A        SANKAR T  76.0  55               0    60   52  59   \n",
       "...            ...             ...   ...  ..             ...   ...  ...  ..   \n",
       "199965           C  ARIF RAHUMAN S  92.0  68               0    78   65  83   \n",
       "199967           C      OLI RAJA D  77.0  53               0    39   35  60   \n",
       "199970           C    JEYABATHRI A  83.0  63               0    84   41  77   \n",
       "199980           C    DHANASEKAR P  83.0  56               0    79   49  73   \n",
       "199986           C          GOPU A  77.0  51               0    44   35  58   \n",
       "\n",
       "             total pass withheld  extra  \n",
       "roll_number                              \n",
       "10004          357    P      NaN    NaN  \n",
       "10008          407    P      NaN    NaN  \n",
       "10014          319    P      NaN    NaN  \n",
       "10023          342    P      NaN    NaN  \n",
       "10031          302    P      NaN    NaN  \n",
       "...            ...  ...      ...    ...  \n",
       "199965         386    P      NaN    NaN  \n",
       "199967         264    P      NaN    NaN  \n",
       "199970         348    P      NaN    NaN  \n",
       "199980         340    P      NaN    NaN  \n",
       "199986         265    P      NaN    NaN  \n",
       "\n",
       "[96835 rows x 12 columns]"
      ]
     },
     "execution_count": 108,
     "metadata": {},
     "output_type": "execute_result"
    }
   ],
   "source": [
    "fl_or_sl"
   ]
  },
  {
   "cell_type": "code",
   "execution_count": 107,
   "id": "13fc7c0e",
   "metadata": {},
   "outputs": [],
   "source": [
    "fl_xor_sl = sslc[(sslc['fl']>75) ^ (sslc['sl']>75)]"
   ]
  },
  {
   "cell_type": "code",
   "execution_count": 109,
   "id": "6a39fa8e",
   "metadata": {},
   "outputs": [
    {
     "data": {
      "text/html": [
       "<div>\n",
       "<style scoped>\n",
       "    .dataframe tbody tr th:only-of-type {\n",
       "        vertical-align: middle;\n",
       "    }\n",
       "\n",
       "    .dataframe tbody tr th {\n",
       "        vertical-align: top;\n",
       "    }\n",
       "\n",
       "    .dataframe thead th {\n",
       "        text-align: right;\n",
       "    }\n",
       "</style>\n",
       "<table border=\"1\" class=\"dataframe\">\n",
       "  <thead>\n",
       "    <tr style=\"text-align: right;\">\n",
       "      <th></th>\n",
       "      <th>region</th>\n",
       "      <th>name</th>\n",
       "      <th>fl</th>\n",
       "      <th>sl</th>\n",
       "      <th>language_total</th>\n",
       "      <th>math</th>\n",
       "      <th>sci</th>\n",
       "      <th>ss</th>\n",
       "      <th>total</th>\n",
       "      <th>pass</th>\n",
       "      <th>withheld</th>\n",
       "      <th>extra</th>\n",
       "    </tr>\n",
       "    <tr>\n",
       "      <th>roll_number</th>\n",
       "      <th></th>\n",
       "      <th></th>\n",
       "      <th></th>\n",
       "      <th></th>\n",
       "      <th></th>\n",
       "      <th></th>\n",
       "      <th></th>\n",
       "      <th></th>\n",
       "      <th></th>\n",
       "      <th></th>\n",
       "      <th></th>\n",
       "      <th></th>\n",
       "    </tr>\n",
       "  </thead>\n",
       "  <tbody>\n",
       "    <tr>\n",
       "      <th>10004</th>\n",
       "      <td>A</td>\n",
       "      <td>ANITHRAJ S</td>\n",
       "      <td>87.0</td>\n",
       "      <td>64</td>\n",
       "      <td>0</td>\n",
       "      <td>83</td>\n",
       "      <td>58</td>\n",
       "      <td>65</td>\n",
       "      <td>357</td>\n",
       "      <td>P</td>\n",
       "      <td>NaN</td>\n",
       "      <td>NaN</td>\n",
       "    </tr>\n",
       "    <tr>\n",
       "      <th>10008</th>\n",
       "      <td>A</td>\n",
       "      <td>JEGAN R</td>\n",
       "      <td>87.0</td>\n",
       "      <td>71</td>\n",
       "      <td>0</td>\n",
       "      <td>97</td>\n",
       "      <td>71</td>\n",
       "      <td>81</td>\n",
       "      <td>407</td>\n",
       "      <td>P</td>\n",
       "      <td>NaN</td>\n",
       "      <td>NaN</td>\n",
       "    </tr>\n",
       "    <tr>\n",
       "      <th>10014</th>\n",
       "      <td>A</td>\n",
       "      <td>KRISHNADHAS R</td>\n",
       "      <td>83.0</td>\n",
       "      <td>48</td>\n",
       "      <td>0</td>\n",
       "      <td>82</td>\n",
       "      <td>42</td>\n",
       "      <td>64</td>\n",
       "      <td>319</td>\n",
       "      <td>P</td>\n",
       "      <td>NaN</td>\n",
       "      <td>NaN</td>\n",
       "    </tr>\n",
       "    <tr>\n",
       "      <th>10023</th>\n",
       "      <td>A</td>\n",
       "      <td>PRATHEESH R</td>\n",
       "      <td>76.0</td>\n",
       "      <td>58</td>\n",
       "      <td>0</td>\n",
       "      <td>61</td>\n",
       "      <td>74</td>\n",
       "      <td>73</td>\n",
       "      <td>342</td>\n",
       "      <td>P</td>\n",
       "      <td>NaN</td>\n",
       "      <td>NaN</td>\n",
       "    </tr>\n",
       "    <tr>\n",
       "      <th>10031</th>\n",
       "      <td>A</td>\n",
       "      <td>SANKAR T</td>\n",
       "      <td>76.0</td>\n",
       "      <td>55</td>\n",
       "      <td>0</td>\n",
       "      <td>60</td>\n",
       "      <td>52</td>\n",
       "      <td>59</td>\n",
       "      <td>302</td>\n",
       "      <td>P</td>\n",
       "      <td>NaN</td>\n",
       "      <td>NaN</td>\n",
       "    </tr>\n",
       "    <tr>\n",
       "      <th>...</th>\n",
       "      <td>...</td>\n",
       "      <td>...</td>\n",
       "      <td>...</td>\n",
       "      <td>...</td>\n",
       "      <td>...</td>\n",
       "      <td>...</td>\n",
       "      <td>...</td>\n",
       "      <td>...</td>\n",
       "      <td>...</td>\n",
       "      <td>...</td>\n",
       "      <td>...</td>\n",
       "      <td>...</td>\n",
       "    </tr>\n",
       "    <tr>\n",
       "      <th>199965</th>\n",
       "      <td>C</td>\n",
       "      <td>ARIF RAHUMAN S</td>\n",
       "      <td>92.0</td>\n",
       "      <td>68</td>\n",
       "      <td>0</td>\n",
       "      <td>78</td>\n",
       "      <td>65</td>\n",
       "      <td>83</td>\n",
       "      <td>386</td>\n",
       "      <td>P</td>\n",
       "      <td>NaN</td>\n",
       "      <td>NaN</td>\n",
       "    </tr>\n",
       "    <tr>\n",
       "      <th>199967</th>\n",
       "      <td>C</td>\n",
       "      <td>OLI RAJA D</td>\n",
       "      <td>77.0</td>\n",
       "      <td>53</td>\n",
       "      <td>0</td>\n",
       "      <td>39</td>\n",
       "      <td>35</td>\n",
       "      <td>60</td>\n",
       "      <td>264</td>\n",
       "      <td>P</td>\n",
       "      <td>NaN</td>\n",
       "      <td>NaN</td>\n",
       "    </tr>\n",
       "    <tr>\n",
       "      <th>199970</th>\n",
       "      <td>C</td>\n",
       "      <td>JEYABATHRI A</td>\n",
       "      <td>83.0</td>\n",
       "      <td>63</td>\n",
       "      <td>0</td>\n",
       "      <td>84</td>\n",
       "      <td>41</td>\n",
       "      <td>77</td>\n",
       "      <td>348</td>\n",
       "      <td>P</td>\n",
       "      <td>NaN</td>\n",
       "      <td>NaN</td>\n",
       "    </tr>\n",
       "    <tr>\n",
       "      <th>199980</th>\n",
       "      <td>C</td>\n",
       "      <td>DHANASEKAR P</td>\n",
       "      <td>83.0</td>\n",
       "      <td>56</td>\n",
       "      <td>0</td>\n",
       "      <td>79</td>\n",
       "      <td>49</td>\n",
       "      <td>73</td>\n",
       "      <td>340</td>\n",
       "      <td>P</td>\n",
       "      <td>NaN</td>\n",
       "      <td>NaN</td>\n",
       "    </tr>\n",
       "    <tr>\n",
       "      <th>199986</th>\n",
       "      <td>C</td>\n",
       "      <td>GOPU A</td>\n",
       "      <td>77.0</td>\n",
       "      <td>51</td>\n",
       "      <td>0</td>\n",
       "      <td>44</td>\n",
       "      <td>35</td>\n",
       "      <td>58</td>\n",
       "      <td>265</td>\n",
       "      <td>P</td>\n",
       "      <td>NaN</td>\n",
       "      <td>NaN</td>\n",
       "    </tr>\n",
       "  </tbody>\n",
       "</table>\n",
       "<p>80630 rows × 12 columns</p>\n",
       "</div>"
      ],
      "text/plain": [
       "            region            name    fl  sl  language_total  math  sci  ss  \\\n",
       "roll_number                                                                   \n",
       "10004            A      ANITHRAJ S  87.0  64               0    83   58  65   \n",
       "10008            A         JEGAN R  87.0  71               0    97   71  81   \n",
       "10014            A   KRISHNADHAS R  83.0  48               0    82   42  64   \n",
       "10023            A     PRATHEESH R  76.0  58               0    61   74  73   \n",
       "10031            A        SANKAR T  76.0  55               0    60   52  59   \n",
       "...            ...             ...   ...  ..             ...   ...  ...  ..   \n",
       "199965           C  ARIF RAHUMAN S  92.0  68               0    78   65  83   \n",
       "199967           C      OLI RAJA D  77.0  53               0    39   35  60   \n",
       "199970           C    JEYABATHRI A  83.0  63               0    84   41  77   \n",
       "199980           C    DHANASEKAR P  83.0  56               0    79   49  73   \n",
       "199986           C          GOPU A  77.0  51               0    44   35  58   \n",
       "\n",
       "             total pass withheld  extra  \n",
       "roll_number                              \n",
       "10004          357    P      NaN    NaN  \n",
       "10008          407    P      NaN    NaN  \n",
       "10014          319    P      NaN    NaN  \n",
       "10023          342    P      NaN    NaN  \n",
       "10031          302    P      NaN    NaN  \n",
       "...            ...  ...      ...    ...  \n",
       "199965         386    P      NaN    NaN  \n",
       "199967         264    P      NaN    NaN  \n",
       "199970         348    P      NaN    NaN  \n",
       "199980         340    P      NaN    NaN  \n",
       "199986         265    P      NaN    NaN  \n",
       "\n",
       "[80630 rows x 12 columns]"
      ]
     },
     "execution_count": 109,
     "metadata": {},
     "output_type": "execute_result"
    }
   ],
   "source": [
    "fl_xor_sl"
   ]
  },
  {
   "cell_type": "markdown",
   "id": "9855a652",
   "metadata": {},
   "source": [
    "#### Findout number of pass and withheld results regionwise"
   ]
  },
  {
   "cell_type": "code",
   "execution_count": 292,
   "id": "e9fe1156",
   "metadata": {},
   "outputs": [
    {
     "data": {
      "text/plain": [
       "region  pass\n",
       "A       P       31013\n",
       "        F        5388\n",
       "B       P       36202\n",
       "        F        5139\n",
       "C       P       26681\n",
       "        F        4580\n",
       "D       P       22080\n",
       "        F        3390\n",
       "E       P       20880\n",
       "        F        3900\n",
       "F       P       22216\n",
       "        F        4198\n",
       "Name: pass, dtype: int64"
      ]
     },
     "execution_count": 292,
     "metadata": {},
     "output_type": "execute_result"
    }
   ],
   "source": [
    "sslc.groupby('region')['pass'].value_counts()"
   ]
  },
  {
   "cell_type": "code",
   "execution_count": 293,
   "id": "8439bfe6",
   "metadata": {},
   "outputs": [
    {
     "data": {
      "text/plain": [
       "region  withheld\n",
       "A       W           14\n",
       "B       W           12\n",
       "C       W           19\n",
       "D       W           14\n",
       "E       W            7\n",
       "F       W           47\n",
       "Name: withheld, dtype: int64"
      ]
     },
     "execution_count": 293,
     "metadata": {},
     "output_type": "execute_result"
    }
   ],
   "source": [
    " sslc.groupby('region')['withheld'].value_counts()"
   ]
  },
  {
   "cell_type": "markdown",
   "id": "c693f922",
   "metadata": {},
   "source": [
    "#### Find the number of first language results withheld"
   ]
  },
  {
   "cell_type": "code",
   "execution_count": 94,
   "id": "c07aee99",
   "metadata": {},
   "outputs": [
    {
     "data": {
      "text/plain": [
       "17"
      ]
     },
     "execution_count": 94,
     "metadata": {},
     "output_type": "execute_result"
    }
   ],
   "source": [
    "sslc_WH['fl'].isnull().sum()"
   ]
  },
  {
   "cell_type": "markdown",
   "id": "77de0c6c",
   "metadata": {},
   "source": [
    "#### Create a dataframe with total marks greater than or equal to 300"
   ]
  },
  {
   "cell_type": "code",
   "execution_count": 96,
   "id": "7b05b763",
   "metadata": {},
   "outputs": [],
   "source": [
    "sslc_60 = sslc[sslc['total']>=300]"
   ]
  },
  {
   "cell_type": "code",
   "execution_count": 97,
   "id": "b1b4d230",
   "metadata": {},
   "outputs": [
    {
     "data": {
      "text/plain": [
       "region      95253\n",
       "name        95253\n",
       "fl          95252\n",
       "sl          95253\n",
       "math        95253\n",
       "sci         95253\n",
       "ss          95253\n",
       "total       95253\n",
       "pass        95229\n",
       "withheld        1\n",
       "extra           0\n",
       "dtype: int64"
      ]
     },
     "execution_count": 97,
     "metadata": {},
     "output_type": "execute_result"
    }
   ],
   "source": [
    "# number of records in subdataframe\n",
    "sslc_60.count()"
   ]
  },
  {
   "cell_type": "markdown",
   "id": "def3a16a",
   "metadata": {},
   "source": [
    "### Insert a new column to have sum of language marks"
   ]
  },
  {
   "cell_type": "code",
   "execution_count": 98,
   "id": "44067b47",
   "metadata": {},
   "outputs": [],
   "source": [
    "sslc.insert(4,'language_total',0)"
   ]
  },
  {
   "cell_type": "code",
   "execution_count": null,
   "id": "3f688177",
   "metadata": {},
   "outputs": [],
   "source": [
    "sslc.head()"
   ]
  },
  {
   "cell_type": "markdown",
   "id": "afd1e764",
   "metadata": {},
   "source": [
    "#### Function to find sum of two numbers"
   ]
  },
  {
   "cell_type": "code",
   "execution_count": 300,
   "id": "c5236702",
   "metadata": {},
   "outputs": [],
   "source": [
    "def total(fl,sl):\n",
    "    return fl+sl"
   ]
  },
  {
   "cell_type": "markdown",
   "id": "9b6888d6",
   "metadata": {},
   "source": [
    "#### Call function to compute sum of fl and sl and store it in language_total column\n",
    "Broadcasting happens"
   ]
  },
  {
   "cell_type": "code",
   "execution_count": 301,
   "id": "eb73b9fe",
   "metadata": {},
   "outputs": [],
   "source": [
    "sslc['language_total'] = total(sslc['fl'],sslc['sl'])"
   ]
  },
  {
   "cell_type": "code",
   "execution_count": 302,
   "id": "c3e236b6",
   "metadata": {},
   "outputs": [
    {
     "data": {
      "text/html": [
       "<div>\n",
       "<style scoped>\n",
       "    .dataframe tbody tr th:only-of-type {\n",
       "        vertical-align: middle;\n",
       "    }\n",
       "\n",
       "    .dataframe tbody tr th {\n",
       "        vertical-align: top;\n",
       "    }\n",
       "\n",
       "    .dataframe thead th {\n",
       "        text-align: right;\n",
       "    }\n",
       "</style>\n",
       "<table border=\"1\" class=\"dataframe\">\n",
       "  <thead>\n",
       "    <tr style=\"text-align: right;\">\n",
       "      <th></th>\n",
       "      <th>region</th>\n",
       "      <th>name</th>\n",
       "      <th>fl</th>\n",
       "      <th>sl</th>\n",
       "      <th>language_total</th>\n",
       "      <th>math</th>\n",
       "      <th>sci</th>\n",
       "      <th>ss</th>\n",
       "      <th>total</th>\n",
       "      <th>pass</th>\n",
       "      <th>withheld</th>\n",
       "      <th>extra</th>\n",
       "    </tr>\n",
       "    <tr>\n",
       "      <th>roll_number</th>\n",
       "      <th></th>\n",
       "      <th></th>\n",
       "      <th></th>\n",
       "      <th></th>\n",
       "      <th></th>\n",
       "      <th></th>\n",
       "      <th></th>\n",
       "      <th></th>\n",
       "      <th></th>\n",
       "      <th></th>\n",
       "      <th></th>\n",
       "      <th></th>\n",
       "    </tr>\n",
       "  </thead>\n",
       "  <tbody>\n",
       "    <tr>\n",
       "      <th>10001</th>\n",
       "      <td>A</td>\n",
       "      <td>ABINESH T N</td>\n",
       "      <td>53</td>\n",
       "      <td>36</td>\n",
       "      <td>89</td>\n",
       "      <td>28</td>\n",
       "      <td>16</td>\n",
       "      <td>44</td>\n",
       "      <td>177</td>\n",
       "      <td>F</td>\n",
       "      <td>NaN</td>\n",
       "      <td>NaN</td>\n",
       "    </tr>\n",
       "    <tr>\n",
       "      <th>10002</th>\n",
       "      <td>A</td>\n",
       "      <td>ANAND R</td>\n",
       "      <td>58</td>\n",
       "      <td>37</td>\n",
       "      <td>95</td>\n",
       "      <td>42</td>\n",
       "      <td>35</td>\n",
       "      <td>40</td>\n",
       "      <td>212</td>\n",
       "      <td>P</td>\n",
       "      <td>NaN</td>\n",
       "      <td>NaN</td>\n",
       "    </tr>\n",
       "    <tr>\n",
       "      <th>10003</th>\n",
       "      <td>A</td>\n",
       "      <td>ANISH M</td>\n",
       "      <td>72</td>\n",
       "      <td>56</td>\n",
       "      <td>128</td>\n",
       "      <td>71</td>\n",
       "      <td>55</td>\n",
       "      <td>70</td>\n",
       "      <td>324</td>\n",
       "      <td>P</td>\n",
       "      <td>NaN</td>\n",
       "      <td>NaN</td>\n",
       "    </tr>\n",
       "    <tr>\n",
       "      <th>10004</th>\n",
       "      <td>A</td>\n",
       "      <td>ANITHRAJ S</td>\n",
       "      <td>87</td>\n",
       "      <td>64</td>\n",
       "      <td>151</td>\n",
       "      <td>83</td>\n",
       "      <td>58</td>\n",
       "      <td>65</td>\n",
       "      <td>357</td>\n",
       "      <td>P</td>\n",
       "      <td>NaN</td>\n",
       "      <td>NaN</td>\n",
       "    </tr>\n",
       "    <tr>\n",
       "      <th>10005</th>\n",
       "      <td>A</td>\n",
       "      <td>ARIDHAS N</td>\n",
       "      <td>59</td>\n",
       "      <td>45</td>\n",
       "      <td>104</td>\n",
       "      <td>50</td>\n",
       "      <td>35</td>\n",
       "      <td>48</td>\n",
       "      <td>237</td>\n",
       "      <td>P</td>\n",
       "      <td>NaN</td>\n",
       "      <td>NaN</td>\n",
       "    </tr>\n",
       "    <tr>\n",
       "      <th>...</th>\n",
       "      <td>...</td>\n",
       "      <td>...</td>\n",
       "      <td>...</td>\n",
       "      <td>...</td>\n",
       "      <td>...</td>\n",
       "      <td>...</td>\n",
       "      <td>...</td>\n",
       "      <td>...</td>\n",
       "      <td>...</td>\n",
       "      <td>...</td>\n",
       "      <td>...</td>\n",
       "      <td>...</td>\n",
       "    </tr>\n",
       "    <tr>\n",
       "      <th>199995</th>\n",
       "      <td>C</td>\n",
       "      <td>SARAVANAN A</td>\n",
       "      <td>53</td>\n",
       "      <td>34</td>\n",
       "      <td>87</td>\n",
       "      <td>26</td>\n",
       "      <td>24</td>\n",
       "      <td>44</td>\n",
       "      <td>181</td>\n",
       "      <td>F</td>\n",
       "      <td>NaN</td>\n",
       "      <td>NaN</td>\n",
       "    </tr>\n",
       "    <tr>\n",
       "      <th>199996</th>\n",
       "      <td>C</td>\n",
       "      <td>JONATHAN J</td>\n",
       "      <td>51</td>\n",
       "      <td>38</td>\n",
       "      <td>89</td>\n",
       "      <td>24</td>\n",
       "      <td>15</td>\n",
       "      <td>41</td>\n",
       "      <td>169</td>\n",
       "      <td>F</td>\n",
       "      <td>NaN</td>\n",
       "      <td>NaN</td>\n",
       "    </tr>\n",
       "    <tr>\n",
       "      <th>199997</th>\n",
       "      <td>C</td>\n",
       "      <td>SATHISH KUMAR M</td>\n",
       "      <td>49</td>\n",
       "      <td>39</td>\n",
       "      <td>88</td>\n",
       "      <td>12</td>\n",
       "      <td>20</td>\n",
       "      <td>24</td>\n",
       "      <td>144</td>\n",
       "      <td>F</td>\n",
       "      <td>NaN</td>\n",
       "      <td>NaN</td>\n",
       "    </tr>\n",
       "    <tr>\n",
       "      <th>199998</th>\n",
       "      <td>C</td>\n",
       "      <td>NAGARAJ R</td>\n",
       "      <td>33</td>\n",
       "      <td>36</td>\n",
       "      <td>69</td>\n",
       "      <td>22</td>\n",
       "      <td>15</td>\n",
       "      <td>35</td>\n",
       "      <td>141</td>\n",
       "      <td>F</td>\n",
       "      <td>NaN</td>\n",
       "      <td>NaN</td>\n",
       "    </tr>\n",
       "    <tr>\n",
       "      <th>199999</th>\n",
       "      <td>C</td>\n",
       "      <td>NAGARAJ P</td>\n",
       "      <td>17</td>\n",
       "      <td>14</td>\n",
       "      <td>31</td>\n",
       "      <td>15</td>\n",
       "      <td>14</td>\n",
       "      <td>20</td>\n",
       "      <td>80</td>\n",
       "      <td>F</td>\n",
       "      <td>NaN</td>\n",
       "      <td>NaN</td>\n",
       "    </tr>\n",
       "  </tbody>\n",
       "</table>\n",
       "<p>185667 rows × 12 columns</p>\n",
       "</div>"
      ],
      "text/plain": [
       "            region             name  fl  sl  language_total  math  sci  ss  \\\n",
       "roll_number                                                                  \n",
       "10001            A      ABINESH T N  53  36              89    28   16  44   \n",
       "10002            A          ANAND R  58  37              95    42   35  40   \n",
       "10003            A          ANISH M  72  56             128    71   55  70   \n",
       "10004            A       ANITHRAJ S  87  64             151    83   58  65   \n",
       "10005            A        ARIDHAS N  59  45             104    50   35  48   \n",
       "...            ...              ...  ..  ..             ...   ...  ...  ..   \n",
       "199995           C      SARAVANAN A  53  34              87    26   24  44   \n",
       "199996           C       JONATHAN J  51  38              89    24   15  41   \n",
       "199997           C  SATHISH KUMAR M  49  39              88    12   20  24   \n",
       "199998           C        NAGARAJ R  33  36              69    22   15  35   \n",
       "199999           C        NAGARAJ P  17  14              31    15   14  20   \n",
       "\n",
       "             total pass withheld  extra  \n",
       "roll_number                              \n",
       "10001          177    F      NaN    NaN  \n",
       "10002          212    P      NaN    NaN  \n",
       "10003          324    P      NaN    NaN  \n",
       "10004          357    P      NaN    NaN  \n",
       "10005          237    P      NaN    NaN  \n",
       "...            ...  ...      ...    ...  \n",
       "199995         181    F      NaN    NaN  \n",
       "199996         169    F      NaN    NaN  \n",
       "199997         144    F      NaN    NaN  \n",
       "199998         141    F      NaN    NaN  \n",
       "199999          80    F      NaN    NaN  \n",
       "\n",
       "[185667 rows x 12 columns]"
      ]
     },
     "execution_count": 302,
     "metadata": {},
     "output_type": "execute_result"
    }
   ],
   "source": [
    "sslc"
   ]
  },
  {
   "cell_type": "code",
   "execution_count": null,
   "id": "a7d0a0d7",
   "metadata": {},
   "outputs": [],
   "source": []
  }
 ],
 "metadata": {
  "kernelspec": {
   "display_name": "Python 3",
   "language": "python",
   "name": "python3"
  },
  "language_info": {
   "codemirror_mode": {
    "name": "ipython",
    "version": 3
   },
   "file_extension": ".py",
   "mimetype": "text/x-python",
   "name": "python",
   "nbconvert_exporter": "python",
   "pygments_lexer": "ipython3",
   "version": "3.8.8"
  }
 },
 "nbformat": 4,
 "nbformat_minor": 5
}
